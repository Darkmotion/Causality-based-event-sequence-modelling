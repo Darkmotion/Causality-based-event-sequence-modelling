{
 "cells": [
  {
   "cell_type": "code",
   "execution_count": 1,
   "metadata": {},
   "outputs": [],
   "source": [
    "import pandas as pd\n",
    "import numpy as np\n",
    "import matplotlib.pyplot as plt\n",
    "import os\n",
    "from causal_nh.utils import open_pkl_file"
   ]
  },
  {
   "cell_type": "code",
   "execution_count": 37,
   "metadata": {},
   "outputs": [],
   "source": [
    "path_to_data = '../../data/NeuralHawkesData/'"
   ]
  },
  {
   "cell_type": "code",
   "execution_count": 41,
   "metadata": {},
   "outputs": [],
   "source": [
    "datasets = [i for i in os.listdir(path_to_data) if 'data' in i]"
   ]
  },
  {
   "cell_type": "code",
   "execution_count": 42,
   "metadata": {},
   "outputs": [
    {
     "data": {
      "text/plain": [
       "['data_retweet',\n",
       " 'data_hawkes',\n",
       " 'data_meme',\n",
       " 'data_bookorder',\n",
       " 'data_missing',\n",
       " 'data_retweet_sampled',\n",
       " 'data_mimic',\n",
       " 'data_conttime',\n",
       " 'data_so',\n",
       " 'data_hawkesinhib']"
      ]
     },
     "execution_count": 42,
     "metadata": {},
     "output_type": "execute_result"
    }
   ],
   "source": [
    "datasets"
   ]
  },
  {
   "cell_type": "code",
   "execution_count": 46,
   "metadata": {},
   "outputs": [],
   "source": [
    "dfs = []\n",
    "for i, dataset in enumerate(datasets):\n",
    "    d = {'dataset_name': dataset}\n",
    "    files = [i for i in os.listdir(path_to_data + dataset) if '.pkl' in i]\n",
    "    \n",
    "    max_seq_length_train = 0\n",
    "    max_seq_length_dev = 0\n",
    "    max_seq_length_test = 0\n",
    "\n",
    "    if len(files) == 0:\n",
    "        folds = [i for i in os.listdir(path_to_data + dataset) if 'fold' in i]\n",
    "        n_folds = len(folds)\n",
    "        for fold in folds:\n",
    "            time_durations_tr, type_seqs_tr, seq_lens_tr, type_size = open_pkl_file(\n",
    "                path_to_data + dataset + '/' + fold + '/train.pkl', 'train')\n",
    "            n_sequences_train = len(time_durations_tr)\n",
    "            if np.max(seq_lens_tr) >= max_seq_length_train:\n",
    "                max_seq_length_train = np.max(seq_lens_tr)\n",
    "                \n",
    "            time_durations_dev, type_seqs_dev, seq_lens_dev, _ = open_pkl_file(\n",
    "                path_to_data + dataset + '/' + fold + '/dev.pkl', 'dev')\n",
    "            n_sequences_dev = len(time_durations_dev)\n",
    "            if np.max(seq_lens_dev) >= max_seq_length_dev:\n",
    "                max_seq_length_dev = np.max(seq_lens_dev)\n",
    "                \n",
    "            time_durations_test, type_seqs_test, seq_lens_test, _ = open_pkl_file(\n",
    "                path_to_data + dataset + '/' + fold + '/test.pkl', 'test')\n",
    "            n_sequences_test = len(time_durations_test)\n",
    "            if np.max(seq_lens_test) >= max_seq_length_test:\n",
    "                max_seq_length_test = np.max(seq_lens_test)\n",
    "\n",
    "    else:\n",
    "        n_folds = 1\n",
    "        time_durations_tr, type_seqs_tr, seq_lens_tr, type_size = open_pkl_file(\n",
    "            path_to_data + dataset + '/train.pkl', 'train')\n",
    "        n_sequences_train = len(time_durations_tr)\n",
    "        if np.max(seq_lens_tr) >= max_seq_length_train:\n",
    "            max_seq_length_train = np.max(seq_lens_tr)\n",
    "\n",
    "        time_durations_dev, type_seqs_dev, seq_lens_dev, _ = open_pkl_file(\n",
    "            path_to_data + dataset + '/dev.pkl', 'dev')\n",
    "        n_sequences_dev = len(time_durations_dev)\n",
    "        if np.max(seq_lens_dev) >= max_seq_length_dev:\n",
    "            max_seq_length_dev = np.max(seq_lens_dev)\n",
    "\n",
    "        time_durations_test, type_seqs_test, seq_lens_test, _ = open_pkl_file(\n",
    "            path_to_data + dataset + '/test.pkl', 'test')\n",
    "        n_sequences_test = len(time_durations_test)\n",
    "        if np.max(seq_lens_test) >= max_seq_length_test:\n",
    "            max_seq_length_test = np.max(seq_lens_test)\n",
    "\n",
    "#     d.update({'n_folds': n_folds,\n",
    "#               'max_seq_length_train': max_seq_length_train,\n",
    "#               'max_seq_length_dev': max_seq_length_dev,\n",
    "#               'max_seq_length_test': max_seq_length_test,\n",
    "              \n",
    "#               'n_sequences_train': n_sequences_train,\n",
    "#               'n_sequences_dev': n_sequences_dev,\n",
    "#               'n_sequences_test': n_sequences_test,\n",
    "#               'n_events': type_size})\n",
    "\n",
    "    d.update({\n",
    "              'K': type_size,\n",
    "              'T': np.max([max_seq_length_train, max_seq_length_dev, max_seq_length_test]),\n",
    "              'N': np.sum([n_sequences_train, n_sequences_dev, n_sequences_test]),\n",
    "              })\n",
    "    \n",
    "    dfs.append(pd.DataFrame(d, index = [i]))"
   ]
  },
  {
   "cell_type": "code",
   "execution_count": 47,
   "metadata": {},
   "outputs": [],
   "source": [
    "pd.concat(dfs).to_csv('dataset_summary.csv', index = False)"
   ]
  },
  {
   "cell_type": "code",
   "execution_count": 48,
   "metadata": {},
   "outputs": [
    {
     "data": {
      "text/html": [
       "<div>\n",
       "<style scoped>\n",
       "    .dataframe tbody tr th:only-of-type {\n",
       "        vertical-align: middle;\n",
       "    }\n",
       "\n",
       "    .dataframe tbody tr th {\n",
       "        vertical-align: top;\n",
       "    }\n",
       "\n",
       "    .dataframe thead th {\n",
       "        text-align: right;\n",
       "    }\n",
       "</style>\n",
       "<table border=\"1\" class=\"dataframe\">\n",
       "  <thead>\n",
       "    <tr style=\"text-align: right;\">\n",
       "      <th></th>\n",
       "      <th>dataset_name</th>\n",
       "      <th>K</th>\n",
       "      <th>T</th>\n",
       "      <th>N</th>\n",
       "    </tr>\n",
       "  </thead>\n",
       "  <tbody>\n",
       "    <tr>\n",
       "      <th>0</th>\n",
       "      <td>data_retweet</td>\n",
       "      <td>3</td>\n",
       "      <td>264</td>\n",
       "      <td>24000</td>\n",
       "    </tr>\n",
       "    <tr>\n",
       "      <th>1</th>\n",
       "      <td>data_hawkes</td>\n",
       "      <td>5</td>\n",
       "      <td>68</td>\n",
       "      <td>10000</td>\n",
       "    </tr>\n",
       "    <tr>\n",
       "      <th>2</th>\n",
       "      <td>data_meme</td>\n",
       "      <td>5000</td>\n",
       "      <td>2</td>\n",
       "      <td>210000</td>\n",
       "    </tr>\n",
       "    <tr>\n",
       "      <th>3</th>\n",
       "      <td>data_bookorder</td>\n",
       "      <td>2</td>\n",
       "      <td>3319</td>\n",
       "      <td>200</td>\n",
       "    </tr>\n",
       "    <tr>\n",
       "      <th>4</th>\n",
       "      <td>data_missing</td>\n",
       "      <td>5</td>\n",
       "      <td>48</td>\n",
       "      <td>10000</td>\n",
       "    </tr>\n",
       "    <tr>\n",
       "      <th>5</th>\n",
       "      <td>data_retweet_sampled</td>\n",
       "      <td>3</td>\n",
       "      <td>246</td>\n",
       "      <td>540</td>\n",
       "    </tr>\n",
       "    <tr>\n",
       "      <th>6</th>\n",
       "      <td>data_mimic</td>\n",
       "      <td>75</td>\n",
       "      <td>33</td>\n",
       "      <td>650</td>\n",
       "    </tr>\n",
       "    <tr>\n",
       "      <th>7</th>\n",
       "      <td>data_conttime</td>\n",
       "      <td>5</td>\n",
       "      <td>53</td>\n",
       "      <td>10000</td>\n",
       "    </tr>\n",
       "    <tr>\n",
       "      <th>8</th>\n",
       "      <td>data_so</td>\n",
       "      <td>22</td>\n",
       "      <td>78</td>\n",
       "      <td>6633</td>\n",
       "    </tr>\n",
       "    <tr>\n",
       "      <th>9</th>\n",
       "      <td>data_hawkesinhib</td>\n",
       "      <td>5</td>\n",
       "      <td>66</td>\n",
       "      <td>10000</td>\n",
       "    </tr>\n",
       "  </tbody>\n",
       "</table>\n",
       "</div>"
      ],
      "text/plain": [
       "           dataset_name     K     T       N\n",
       "0          data_retweet     3   264   24000\n",
       "1           data_hawkes     5    68   10000\n",
       "2             data_meme  5000     2  210000\n",
       "3        data_bookorder     2  3319     200\n",
       "4          data_missing     5    48   10000\n",
       "5  data_retweet_sampled     3   246     540\n",
       "6            data_mimic    75    33     650\n",
       "7         data_conttime     5    53   10000\n",
       "8               data_so    22    78    6633\n",
       "9      data_hawkesinhib     5    66   10000"
      ]
     },
     "execution_count": 48,
     "metadata": {},
     "output_type": "execute_result"
    }
   ],
   "source": [
    "pd.concat(dfs)"
   ]
  },
  {
   "cell_type": "code",
   "execution_count": 49,
   "metadata": {},
   "outputs": [
    {
     "name": "stdout",
     "output_type": "stream",
     "text": [
      "\\begin{tabular}{llrrr}\n",
      "\\toprule\n",
      "{} &          dataset\\_name &     K &     T &       N \\\\\n",
      "\\midrule\n",
      "0 &          data\\_retweet &     3 &   264 &   24000 \\\\\n",
      "1 &           data\\_hawkes &     5 &    68 &   10000 \\\\\n",
      "2 &             data\\_meme &  5000 &     2 &  210000 \\\\\n",
      "3 &        data\\_bookorder &     2 &  3319 &     200 \\\\\n",
      "4 &          data\\_missing &     5 &    48 &   10000 \\\\\n",
      "5 &  data\\_retweet\\_sampled &     3 &   246 &     540 \\\\\n",
      "6 &            data\\_mimic &    75 &    33 &     650 \\\\\n",
      "7 &         data\\_conttime &     5 &    53 &   10000 \\\\\n",
      "8 &               data\\_so &    22 &    78 &    6633 \\\\\n",
      "9 &      data\\_hawkesinhib &     5 &    66 &   10000 \\\\\n",
      "\\bottomrule\n",
      "\\end{tabular}\n",
      "\n"
     ]
    }
   ],
   "source": [
    "print(pd.concat(dfs).to_latex())"
   ]
  },
  {
   "cell_type": "code",
   "execution_count": null,
   "metadata": {},
   "outputs": [],
   "source": []
  },
  {
   "cell_type": "code",
   "execution_count": 23,
   "metadata": {},
   "outputs": [],
   "source": [
    "np.set_printoptions(suppress=True)"
   ]
  },
  {
   "cell_type": "code",
   "execution_count": 33,
   "metadata": {},
   "outputs": [
    {
     "data": {
      "image/png": "[encoded data removed]",
      "text/plain": [
       "<Figure size 4000x1000 with 1 Axes>"
      ]
     },
     "metadata": {
      "needs_background": "light"
     },
     "output_type": "display_data"
    }
   ],
   "source": [
    "times = np.array(time_durations_test[0].tolist())\n",
    "events = np.array(type_seqs_test[0].tolist())\n",
    "\n",
    "df = pd.DataFrame(columns = ['time', 'events'])\n",
    "df['time'] = times\n",
    "df['events'] = events\n",
    "df['time_since_start'] = np.append([0], df['time'].values[:-1] + df['time'].values[1:])\n",
    "time_since_start = df['time_since_start'].values\n",
    "\n",
    "\n",
    "plt.figure(figsize = (20, 5), dpi = 200)\n",
    "plt.title(f'Example time series from dataset {dataset}')\n",
    "plt.grid(color='gray', linestyle='-', linewidth=0.2)\n",
    "for event_type in range(type_size):\n",
    "    idxs = np.where(events == event_type)[0]\n",
    "    plt.scatter(time_since_start[idxs], events[idxs], label = f'event_{event_type}')\n",
    "    plt.vlines(time_since_start[idxs], [0]*len(events[idxs]), events[idxs], linestyle='--', linewidth=0.5)\n",
    "plt.legend()\n",
    "plt.xlabel('Time durations')\n",
    "plt.ylabel('Event occurance')\n",
    "plt.show()"
   ]
  },
  {
   "cell_type": "code",
   "execution_count": null,
   "metadata": {},
   "outputs": [],
   "source": []
  },
  {
   "cell_type": "code",
   "execution_count": 14,
   "metadata": {},
   "outputs": [],
   "source": [
    "path_to_data = '../../data/'\n",
    "datasets = [i for i in os.listdir(path_to_data) if 'synth' in i]"
   ]
  },
  {
   "cell_type": "code",
   "execution_count": 15,
   "metadata": {},
   "outputs": [
    {
     "data": {
      "text/plain": [
       "['data_synth_5_events_small',\n",
       " 'data_synth_2_events_small',\n",
       " 'data_synth_3_events_small',\n",
       " 'data_synth_10_events_small']"
      ]
     },
     "execution_count": 15,
     "metadata": {},
     "output_type": "execute_result"
    }
   ],
   "source": [
    "datasets"
   ]
  },
  {
   "cell_type": "code",
   "execution_count": 20,
   "metadata": {},
   "outputs": [
    {
     "name": "stdout",
     "output_type": "stream",
     "text": [
      "data_synth_5_events_small\n",
      "data_synth_2_events_small\n",
      "data_synth_3_events_small\n",
      "data_synth_10_events_small\n"
     ]
    }
   ],
   "source": [
    "dfs = []\n",
    "for i, dataset in enumerate(datasets):\n",
    "    d = {'dataset_name': dataset}\n",
    "    print(dataset)\n",
    "    files = [i for i in os.listdir(path_to_data + dataset) if '.pkl' in i]\n",
    "    \n",
    "    max_seq_length_train = 0\n",
    "    max_seq_length_dev = 0\n",
    "    max_seq_length_test = 0\n",
    "\n",
    "    if len(files) == 0:\n",
    "        folds = [i for i in os.listdir(path_to_data + dataset) if 'fold' in i]\n",
    "        n_folds = len(folds)\n",
    "        for fold in folds:\n",
    "            time_durations_tr, type_seqs_tr, seq_lens_tr, type_size = open_pkl_file(\n",
    "                path_to_data + dataset + '/' + fold + '/train.pkl', 'train')\n",
    "            n_sequences_train = len(time_durations_tr)\n",
    "            if np.max(seq_lens_tr) >= max_seq_length_train:\n",
    "                max_seq_length_train = np.max(seq_lens_tr)\n",
    "                \n",
    "            time_durations_dev, type_seqs_dev, seq_lens_dev, _ = open_pkl_file(\n",
    "                path_to_data + dataset + '/' + fold + '/dev.pkl', 'dev')\n",
    "            n_sequences_dev = len(time_durations_dev)\n",
    "            if np.max(seq_lens_dev) >= max_seq_length_dev:\n",
    "                max_seq_length_dev = np.max(seq_lens_dev)\n",
    "                \n",
    "            time_durations_test, type_seqs_test, seq_lens_test, _ = open_pkl_file(\n",
    "                path_to_data + dataset + '/' + fold + '/test.pkl', 'test')\n",
    "            n_sequences_test = len(time_durations_test)\n",
    "            if np.max(seq_lens_test) >= max_seq_length_test:\n",
    "                max_seq_length_test = np.max(seq_lens_test)\n",
    "\n",
    "    else:\n",
    "        n_folds = 1\n",
    "        time_durations_tr, type_seqs_tr, seq_lens_tr, type_size = open_pkl_file(\n",
    "            path_to_data + dataset + '/train.pkl', 'train')\n",
    "        n_sequences_train = len(time_durations_tr)\n",
    "        if np.max(seq_lens_tr) >= max_seq_length_train:\n",
    "            max_seq_length_train = np.max(seq_lens_tr)\n",
    "\n",
    "        time_durations_dev, type_seqs_dev, seq_lens_dev, _ = open_pkl_file(\n",
    "            path_to_data + dataset + '/dev.pkl', 'dev')\n",
    "        n_sequences_dev = len(time_durations_dev)\n",
    "        if np.max(seq_lens_dev) >= max_seq_length_dev:\n",
    "            max_seq_length_dev = np.max(seq_lens_dev)\n",
    "\n",
    "        time_durations_test, type_seqs_test, seq_lens_test, _ = open_pkl_file(\n",
    "            path_to_data + dataset + '/test.pkl', 'test')\n",
    "        n_sequences_test = len(time_durations_test)\n",
    "        if np.max(seq_lens_test) >= max_seq_length_test:\n",
    "            max_seq_length_test = np.max(seq_lens_test)\n",
    "\n",
    "    d.update({\n",
    "#               'n_folds': n_folds,\n",
    "#               'max_seq_length_train': max_seq_length_train,\n",
    "#               'max_seq_length_dev': max_seq_length_dev,\n",
    "#               'max_seq_length_test': max_seq_length_test,\n",
    "        'K': type_size,\n",
    "        \n",
    "              'T': np.max([max_seq_length_train, max_seq_length_dev, max_seq_length_test]),\n",
    "              'N': np.sum([n_sequences_train, n_sequences_dev, n_sequences_test]),\n",
    "              \n",
    "#               'n_sequences_train': n_sequences_train,\n",
    "#               'n_sequences_dev': n_sequences_dev,\n",
    "#               'n_sequences_test': n_sequences_test,\n",
    "              })\n",
    "    \n",
    "    dfs.append(pd.DataFrame(d, index = [i]))"
   ]
  },
  {
   "cell_type": "code",
   "execution_count": 21,
   "metadata": {},
   "outputs": [
    {
     "data": {
      "text/html": [
       "<div>\n",
       "<style scoped>\n",
       "    .dataframe tbody tr th:only-of-type {\n",
       "        vertical-align: middle;\n",
       "    }\n",
       "\n",
       "    .dataframe tbody tr th {\n",
       "        vertical-align: top;\n",
       "    }\n",
       "\n",
       "    .dataframe thead th {\n",
       "        text-align: right;\n",
       "    }\n",
       "</style>\n",
       "<table border=\"1\" class=\"dataframe\">\n",
       "  <thead>\n",
       "    <tr style=\"text-align: right;\">\n",
       "      <th></th>\n",
       "      <th>dataset_name</th>\n",
       "      <th>K</th>\n",
       "      <th>T</th>\n",
       "      <th>N</th>\n",
       "    </tr>\n",
       "  </thead>\n",
       "  <tbody>\n",
       "    <tr>\n",
       "      <th>0</th>\n",
       "      <td>data_synth_5_events_small</td>\n",
       "      <td>5</td>\n",
       "      <td>88</td>\n",
       "      <td>300</td>\n",
       "    </tr>\n",
       "    <tr>\n",
       "      <th>1</th>\n",
       "      <td>data_synth_2_events_small</td>\n",
       "      <td>2</td>\n",
       "      <td>31</td>\n",
       "      <td>100</td>\n",
       "    </tr>\n",
       "    <tr>\n",
       "      <th>2</th>\n",
       "      <td>data_synth_3_events_small</td>\n",
       "      <td>3</td>\n",
       "      <td>53</td>\n",
       "      <td>300</td>\n",
       "    </tr>\n",
       "    <tr>\n",
       "      <th>3</th>\n",
       "      <td>data_synth_10_events_small</td>\n",
       "      <td>10</td>\n",
       "      <td>230</td>\n",
       "      <td>300</td>\n",
       "    </tr>\n",
       "  </tbody>\n",
       "</table>\n",
       "</div>"
      ],
      "text/plain": [
       "                 dataset_name   K    T    N\n",
       "0   data_synth_5_events_small   5   88  300\n",
       "1   data_synth_2_events_small   2   31  100\n",
       "2   data_synth_3_events_small   3   53  300\n",
       "3  data_synth_10_events_small  10  230  300"
      ]
     },
     "execution_count": 21,
     "metadata": {},
     "output_type": "execute_result"
    }
   ],
   "source": [
    "pd.concat(dfs)"
   ]
  },
  {
   "cell_type": "code",
   "execution_count": 22,
   "metadata": {},
   "outputs": [
    {
     "name": "stdout",
     "output_type": "stream",
     "text": [
      "\\begin{tabular}{llrrr}\n",
      "\\toprule\n",
      "{} &                dataset\\_name &   K &    T &    N \\\\\n",
      "\\midrule\n",
      "0 &   data\\_synth\\_5\\_events\\_small &   5 &   88 &  300 \\\\\n",
      "1 &   data\\_synth\\_2\\_events\\_small &   2 &   31 &  100 \\\\\n",
      "2 &   data\\_synth\\_3\\_events\\_small &   3 &   53 &  300 \\\\\n",
      "3 &  data\\_synth\\_10\\_events\\_small &  10 &  230 &  300 \\\\\n",
      "\\bottomrule\n",
      "\\end{tabular}\n",
      "\n"
     ]
    }
   ],
   "source": [
    "print(pd.concat(dfs).to_latex())"
   ]
  },
  {
   "cell_type": "code",
   "execution_count": null,
   "metadata": {},
   "outputs": [],
   "source": []
  },
  {
   "cell_type": "code",
   "execution_count": null,
   "metadata": {},
   "outputs": [],
   "source": []
  },
  {
   "cell_type": "code",
   "execution_count": 3,
   "metadata": {},
   "outputs": [],
   "source": [
    "from causal_nh.utils import open_pkl_file_original"
   ]
  },
  {
   "cell_type": "code",
   "execution_count": 7,
   "metadata": {},
   "outputs": [],
   "source": [
    "path = path_to_data + 'data_retweet/'"
   ]
  },
  {
   "cell_type": "code",
   "execution_count": 17,
   "metadata": {},
   "outputs": [],
   "source": [
    "data, dim_process = open_pkl_file_original(path + 'train.pkl', 'train')"
   ]
  },
  {
   "cell_type": "code",
   "execution_count": 18,
   "metadata": {},
   "outputs": [
    {
     "data": {
      "text/plain": [
       "20000"
      ]
     },
     "execution_count": 18,
     "metadata": {},
     "output_type": "execute_result"
    }
   ],
   "source": [
    "len(data)"
   ]
  },
  {
   "cell_type": "code",
   "execution_count": 25,
   "metadata": {},
   "outputs": [
    {
     "name": "stderr",
     "output_type": "stream",
     "text": [
      "<ipython-input-25-c286aa726e91>:2: VisibleDeprecationWarning: Creating an ndarray from ragged nested sequences (which is a list-or-tuple of lists-or-tuples-or ndarrays with different lengths or shapes) is deprecated. If you meant to do this, you must specify 'dtype=object' when creating the ndarray.\n",
      "  sample_train = list(np.array(data)[train_idx])\n"
     ]
    }
   ],
   "source": [
    "train_idx = np.random.choice(np.arange(20000), size = 500, replace = False)\n",
    "sample_train = list(np.array(data)[train_idx])"
   ]
  },
  {
   "cell_type": "code",
   "execution_count": 27,
   "metadata": {},
   "outputs": [],
   "source": [
    "import pickle\n",
    "with open(path_to_data + 'data_retweet_sampled/' + 'train.pkl', 'wb') as f:\n",
    "    pickle.dump({'train': sample_train,\n",
    "                 'dim_process':dim_process}, f)"
   ]
  },
  {
   "cell_type": "code",
   "execution_count": 28,
   "metadata": {},
   "outputs": [],
   "source": [
    "data, dim_process = open_pkl_file_original(path + 'dev.pkl', 'dev')"
   ]
  },
  {
   "cell_type": "code",
   "execution_count": 29,
   "metadata": {},
   "outputs": [
    {
     "data": {
      "text/plain": [
       "2000"
      ]
     },
     "execution_count": 29,
     "metadata": {},
     "output_type": "execute_result"
    }
   ],
   "source": [
    "len(data)"
   ]
  },
  {
   "cell_type": "code",
   "execution_count": 30,
   "metadata": {},
   "outputs": [
    {
     "name": "stderr",
     "output_type": "stream",
     "text": [
      "<ipython-input-30-104359c0cad2>:2: VisibleDeprecationWarning: Creating an ndarray from ragged nested sequences (which is a list-or-tuple of lists-or-tuples-or ndarrays with different lengths or shapes) is deprecated. If you meant to do this, you must specify 'dtype=object' when creating the ndarray.\n",
      "  sample_test = list(np.array(data)[test_idx])\n"
     ]
    }
   ],
   "source": [
    "test_idx = np.random.choice(np.arange(2000), size = 20, replace = False)\n",
    "sample_test = list(np.array(data)[test_idx])"
   ]
  },
  {
   "cell_type": "code",
   "execution_count": 32,
   "metadata": {},
   "outputs": [],
   "source": [
    "import pickle\n",
    "with open(path_to_data + 'data_retweet_sampled/' + 'dev.pkl', 'wb') as f:\n",
    "    pickle.dump({'dev': sample_test,\n",
    "                 'dim_process':dim_process}, f)"
   ]
  },
  {
   "cell_type": "code",
   "execution_count": null,
   "metadata": {},
   "outputs": [],
   "source": []
  },
  {
   "cell_type": "code",
   "execution_count": 33,
   "metadata": {},
   "outputs": [],
   "source": [
    "data, dim_process = open_pkl_file_original(path + 'test.pkl', 'test')"
   ]
  },
  {
   "cell_type": "code",
   "execution_count": 34,
   "metadata": {},
   "outputs": [
    {
     "data": {
      "text/plain": [
       "2000"
      ]
     },
     "execution_count": 34,
     "metadata": {},
     "output_type": "execute_result"
    }
   ],
   "source": [
    "len(data)"
   ]
  },
  {
   "cell_type": "code",
   "execution_count": 35,
   "metadata": {},
   "outputs": [
    {
     "name": "stderr",
     "output_type": "stream",
     "text": [
      "<ipython-input-35-104359c0cad2>:2: VisibleDeprecationWarning: Creating an ndarray from ragged nested sequences (which is a list-or-tuple of lists-or-tuples-or ndarrays with different lengths or shapes) is deprecated. If you meant to do this, you must specify 'dtype=object' when creating the ndarray.\n",
      "  sample_test = list(np.array(data)[test_idx])\n"
     ]
    }
   ],
   "source": [
    "test_idx = np.random.choice(np.arange(2000), size = 20, replace = False)\n",
    "sample_test = list(np.array(data)[test_idx])"
   ]
  },
  {
   "cell_type": "code",
   "execution_count": 36,
   "metadata": {},
   "outputs": [],
   "source": [
    "import pickle\n",
    "with open(path_to_data + 'data_retweet_sampled/' + 'test.pkl', 'wb') as f:\n",
    "    pickle.dump({'test': sample_test,\n",
    "                 'dim_process':dim_process}, f)"
   ]
  },
  {
   "cell_type": "code",
   "execution_count": null,
   "metadata": {},
   "outputs": [],
   "source": []
  }
 ],
 "metadata": {
  "kernelspec": {
   "display_name": "Python 3",
   "language": "python",
   "name": "python3"
  },
  "language_info": {
   "codemirror_mode": {
    "name": "ipython",
    "version": 3
   },
   "file_extension": ".py",
   "mimetype": "text/x-python",
   "name": "python",
   "nbconvert_exporter": "python",
   "pygments_lexer": "ipython3",
   "version": "3.8.5"
  }
 },
 "nbformat": 4,
 "nbformat_minor": 4
}
