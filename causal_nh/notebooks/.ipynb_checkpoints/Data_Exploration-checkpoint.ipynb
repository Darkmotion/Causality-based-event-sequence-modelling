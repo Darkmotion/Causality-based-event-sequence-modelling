{
 "cells": [
  {
   "cell_type": "code",
   "execution_count": 4,
   "metadata": {},
   "outputs": [],
   "source": [
    "import pandas as pd\n",
    "import numpy as np\n",
    "import matplotlib.pyplot as plt\n",
    "import os"
   ]
  },
  {
   "cell_type": "code",
   "execution_count": 25,
   "metadata": {},
   "outputs": [],
   "source": [
    "import pickle\n",
    "import torch"
   ]
  },
  {
   "cell_type": "code",
   "execution_count": 45,
   "metadata": {},
   "outputs": [],
   "source": [
    "def open_pkl_file(path, description):\n",
    "    with open(path, 'rb') as f:\n",
    "        data = pickle.load(f, encoding='latin1')\n",
    "        type_size = data['dim_process']\n",
    "        data = data[description]\n",
    "    time_durations = []\n",
    "    type_seqs = []\n",
    "    seq_lens = []\n",
    "    for i in range(len(data)):\n",
    "        event_seqs = np.array([int(event['type_event']) for event in data[i] if int(event['type_event']) <= 1])\n",
    "        event_seqs = (event_seqs-1) * (-1)\n",
    "        type_seqs.append(torch.LongTensor(event_seqs))\n",
    "        time_durations.append(torch.FloatTensor(\n",
    "            [float(event['time_since_last_event']) for event in data[i] if int(event['type_event']) <= 1]))\n",
    "        seq_lens.append(len(torch.LongTensor(\n",
    "            [int(event['type_event']) for event in data[i] if int(event['type_event']) <= 1])))\n",
    "    return time_durations, type_seqs, seq_lens, type_size"
   ]
  },
  {
   "cell_type": "code",
   "execution_count": null,
   "metadata": {},
   "outputs": [],
   "source": []
  },
  {
   "cell_type": "code",
   "execution_count": null,
   "metadata": {},
   "outputs": [],
   "source": []
  },
  {
   "cell_type": "code",
   "execution_count": null,
   "metadata": {},
   "outputs": [],
   "source": []
  },
  {
   "cell_type": "code",
   "execution_count": null,
   "metadata": {},
   "outputs": [],
   "source": []
  },
  {
   "cell_type": "code",
   "execution_count": 46,
   "metadata": {},
   "outputs": [],
   "source": [
    "path_to_data = '../../data/NeuralHawkesData/'"
   ]
  },
  {
   "cell_type": "code",
   "execution_count": 47,
   "metadata": {},
   "outputs": [],
   "source": [
    "datasets = os.listdir(path_to_data)"
   ]
  },
  {
   "cell_type": "code",
   "execution_count": 48,
   "metadata": {},
   "outputs": [
    {
     "name": "stdout",
     "output_type": "stream",
     "text": [
      "['train.pkl', 'dev.pkl', 'test.pkl']\n",
      "['train.pkl', 'dev.pkl', 'test.pkl']\n",
      "['train.pkl', 'dev.pkl', 'test.pkl']\n",
      "['train.pkl', 'dev.pkl', 'test.pkl']\n",
      "['train.pkl', 'dev.pkl', 'test.pkl']\n"
     ]
    }
   ],
   "source": [
    "for dataset in datasets[5:6]:\n",
    "    d = {'dataset_name': dataset}\n",
    "    files = [i for i in os.listdir(path_to_data + dataset) if '.pkl' in i]\n",
    "    \n",
    "    max_seq_length_train = 0\n",
    "    max_seq_length_dev = 0\n",
    "    max_seq_length_test = 0\n",
    "\n",
    "    if len(files) == 0:\n",
    "        folds = [i for i in os.listdir(path_to_data + dataset) if 'fold' in i]\n",
    "        n_folds = len(folds)\n",
    "        for fold in folds:\n",
    "            print(os.listdir(path_to_data + dataset + '/' + fold))\n",
    "            time_durations_tr, type_seqs_tr, seq_lens_tr, type_size = open_pkl_file(\n",
    "                path_to_data + dataset + '/' + fold + '/train.pkl', 'train')\n",
    "            n_sequences_train = len(time_durations_tr)\n",
    "            if np.max(seq_lens_tr) >= max_seq_length_train:\n",
    "                max_seq_length_train = np.max(seq_lens_tr)\n",
    "                \n",
    "            time_durations_dev, type_seqs_dev, seq_lens_dev, _ = open_pkl_file(\n",
    "                path_to_data + dataset + '/' + fold + '/dev.pkl', 'dev')\n",
    "            n_sequences_dev = len(time_durations_dev)\n",
    "            if np.max(seq_lens_dev) >= max_seq_length_dev:\n",
    "                max_seq_length_dev = np.max(seq_lens_dev)\n",
    "                \n",
    "            time_durations_test, type_seqs_test, seq_lens_test, _ = open_pkl_file(\n",
    "                path_to_data + dataset + '/' + fold + '/test.pkl', 'test')\n",
    "            n_sequences_test = len(time_durations_test)\n",
    "            if np.max(seq_lens_test) >= max_seq_length_test:\n",
    "                max_seq_length_test = np.max(seq_lens_test)\n",
    "\n",
    "    else:\n",
    "        n_folds = 1\n",
    "        print(files)\n",
    "\n",
    "    d.update({'n_folds': n_folds,\n",
    "              'max_seq_length_train': max_seq_length_train,\n",
    "              'max_seq_length_dev': max_seq_length_dev,\n",
    "              'max_seq_length_test': max_seq_length_test,\n",
    "              \n",
    "              'n_sequences_train': n_sequences_train,\n",
    "              'n_sequences_dev': n_sequences_dev,\n",
    "              'n_sequences_test': n_sequences_test,\n",
    "              'n_events': type_size})"
   ]
  },
  {
   "cell_type": "code",
   "execution_count": 49,
   "metadata": {},
   "outputs": [
    {
     "data": {
      "text/plain": [
       "{'dataset_name': 'data_mimic',\n",
       " 'n_folds': 5,\n",
       " 'max_seq_length_train': 33,\n",
       " 'n_sequences_train': 527,\n",
       " 'n_events': 75}"
      ]
     },
     "execution_count": 49,
     "metadata": {},
     "output_type": "execute_result"
    }
   ],
   "source": [
    "d"
   ]
  },
  {
   "cell_type": "code",
   "execution_count": null,
   "metadata": {},
   "outputs": [],
   "source": []
  },
  {
   "cell_type": "code",
   "execution_count": null,
   "metadata": {},
   "outputs": [],
   "source": []
  },
  {
   "cell_type": "code",
   "execution_count": 14,
   "metadata": {},
   "outputs": [
    {
     "data": {
      "text/plain": [
       "['fold2', 'fold5', 'fold4', 'fold3', 'fold1']"
      ]
     },
     "execution_count": 14,
     "metadata": {},
     "output_type": "execute_result"
    }
   ],
   "source": [
    "folds"
   ]
  },
  {
   "cell_type": "code",
   "execution_count": null,
   "metadata": {},
   "outputs": [],
   "source": []
  }
 ],
 "metadata": {
  "kernelspec": {
   "display_name": "Python 3",
   "language": "python",
   "name": "python3"
  },
  "language_info": {
   "codemirror_mode": {
    "name": "ipython",
    "version": 3
   },
   "file_extension": ".py",
   "mimetype": "text/x-python",
   "name": "python",
   "nbconvert_exporter": "python",
   "pygments_lexer": "ipython3",
   "version": "3.8.5"
  }
 },
 "nbformat": 4,
 "nbformat_minor": 4
}
