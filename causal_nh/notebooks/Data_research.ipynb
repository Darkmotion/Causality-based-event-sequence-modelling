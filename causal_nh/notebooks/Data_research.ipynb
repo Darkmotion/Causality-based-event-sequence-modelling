{
 "cells": [
  {
   "cell_type": "code",
   "execution_count": 2,
   "metadata": {},
   "outputs": [],
   "source": [
    "import pickle as pkl\n",
    "from pprint import pprint\n",
    "import tick\n",
    "import numpy as np\n",
    "from matplotlib import pyplot as plt"
   ]
  },
  {
   "cell_type": "code",
   "execution_count": 4,
   "metadata": {},
   "outputs": [],
   "source": [
    "%matplotlib inline"
   ]
  },
  {
   "cell_type": "code",
   "execution_count": null,
   "metadata": {},
   "outputs": [],
   "source": []
  },
  {
   "cell_type": "code",
   "execution_count": 6,
   "metadata": {},
   "outputs": [],
   "source": [
    "#  load train data\n",
    "\n",
    "with open('../../data/data_hawkesinhib/train.pkl', 'rb') as f:\n",
    "    data = pkl.load(f,encoding='latin1')"
   ]
  },
  {
   "cell_type": "code",
   "execution_count": 7,
   "metadata": {},
   "outputs": [
    {
     "name": "stdout",
     "output_type": "stream",
     "text": [
      "Train sequences: 8000\n",
      "Avr count of events in sequence: 60\n",
      "\n",
      "Amount of event types: 5,\n",
      "Event type markers: {0, 1, 2, 3, 4}\n",
      "\n",
      "Data example:\n",
      "[{'idx_event': 1,\n",
      "  'time_since_last_event': 0.5548047,\n",
      "  'time_since_last_same_event': 0.5548047,\n",
      "  'time_since_start': 0.5548047,\n",
      "  'type_event': 0},\n",
      " {'idx_event': 2,\n",
      "  'time_since_last_event': 1.1679047,\n",
      "  'time_since_last_same_event': 1.7227094,\n",
      "  'time_since_start': 1.7227094,\n",
      "  'type_event': 1},\n",
      " {'idx_event': 3,\n",
      "  'time_since_last_event': 0.11215174,\n",
      "  'time_since_last_same_event': 1.2800565,\n",
      "  'time_since_start': 1.8348612,\n",
      "  'type_event': 0}]\n"
     ]
    }
   ],
   "source": [
    "# describe data\n",
    "\"\"\"\n",
    "    Event description format:\n",
    "          'idx_event': event number in the sequence,\n",
    "          'time_since_last_event': time elapsed from occurrence of previous event,\n",
    "          'time_since_last_same_event': time elapsed from occurrence of previous event with same type,\n",
    "          'time_since_start': time elapsed from sequence beginning,\n",
    "          'type_event': event type,\n",
    "\"\"\"\n",
    "\n",
    "sequences = len(data['train'])  # count of event sequences\n",
    "avg_samples_count = sum([len(item) for item in data['train']])//sequences #  average lengh of event sequence\n",
    "event_types = set([item['type_event'] for sequence in data['train'] for item in sequence ])  #  event type markers\n",
    "n_types = len(event_types) #  amount of event classes\n",
    "print(f'Train sequences: {sequences}\\nAvr count of events in sequence: {avg_samples_count}\\n')\n",
    "print(f'Amount of event types: {n_types},\\nEvent type markers: {event_types}\\n')\n",
    "print('Data example:')\n",
    "pprint(data['train'][0][0:3])\n"
   ]
  },
  {
   "cell_type": "code",
   "execution_count": 8,
   "metadata": {},
   "outputs": [],
   "source": [
    "# data transform\n",
    "def data_preprocessing(data, n_types):\n",
    "    data_processed = []\n",
    "    for sequence in data:\n",
    "        updated_sequence = [[] for _ in range(n_types)]\n",
    "        for item in sequence:\n",
    "            updated_sequence[item['type_event']].append(item['time_since_start'])\n",
    "        updated_sequence = [np.array(item, dtype=np.double) for item in updated_sequence]\n",
    "        data_processed.append(updated_sequence)\n",
    "    return data_processed\n"
   ]
  },
  {
   "cell_type": "code",
   "execution_count": 9,
   "metadata": {},
   "outputs": [],
   "source": [
    "from tick.plot import plot_hawkes_kernel_norms\n",
    "def model_stats(model, test_data):\n",
    "    plot_hawkes_kernel_norms(model,\n",
    "                         node_names=list())\n",
    "    print(f'log-likelihood: {model.score(test_data)}')\n",
    "    pprint(model.adjacency)"
   ]
  },
  {
   "cell_type": "code",
   "execution_count": 10,
   "metadata": {},
   "outputs": [],
   "source": [
    "with open('../../data/data_hawkesinhib/test.pkl', 'rb') as f:\n",
    "    data_test = pkl.load(f,encoding='latin1')\n",
    "    \n",
    "test_events = data_preprocessing(data_test['test'], n_types)\n",
    "processed_train = data_preprocessing(data['train'], n_types)\n",
    "\n",
    "\n",
    "\n"
   ]
  },
  {
   "cell_type": "code",
   "execution_count": 19,
   "metadata": {},
   "outputs": [
    {
     "data": {
      "text/plain": [
       "[array([0.55480468, 1.83486116, 2.80632067, 3.96395087, 4.33592749,\n",
       "        5.03332901, 5.05364418, 5.50754023, 5.6828146 , 6.88051891,\n",
       "        7.79980898, 8.60844898, 8.61282921]),\n",
       " array([1.72270942, 2.64998364, 4.44414759]),\n",
       " array([3.15885019, 9.18916988]),\n",
       " array([3.21331811, 5.2952075 , 8.32675266]),\n",
       " array([1.84739387, 2.26010966, 2.28192639, 3.67098045, 3.69758677,\n",
       "        5.07235479, 5.36057854, 5.66092968, 6.3915267 , 7.5687561 ,\n",
       "        8.37461758])]"
      ]
     },
     "execution_count": 19,
     "metadata": {},
     "output_type": "execute_result"
    }
   ],
   "source": [
    "processed_train[0]"
   ]
  },
  {
   "cell_type": "code",
   "execution_count": null,
   "metadata": {},
   "outputs": [],
   "source": []
  },
  {
   "cell_type": "code",
   "execution_count": null,
   "metadata": {},
   "outputs": [],
   "source": []
  },
  {
   "cell_type": "code",
   "execution_count": null,
   "metadata": {},
   "outputs": [],
   "source": []
  },
  {
   "cell_type": "code",
   "execution_count": null,
   "metadata": {},
   "outputs": [],
   "source": []
  },
  {
   "cell_type": "code",
   "execution_count": 55,
   "metadata": {},
   "outputs": [
    {
     "data": {
      "text/plain": [
       "<tick.hawkes.inference.hawkes_adm4.HawkesADM4 at 0x7fe64b1703d0>"
      ]
     },
     "execution_count": 55,
     "metadata": {},
     "output_type": "execute_result"
    }
   ],
   "source": [
    "from tick.hawkes import HawkesADM4\n",
    "decay = .3\n",
    "estimator_adm4 = HawkesADM4(decay,n_threads=6)\n",
    "estimator_adm4.fit(processed_train[1])\n",
    "model_stats(estimator_adm4, processed_train[1])"
   ]
  },
  {
   "cell_type": "code",
   "execution_count": 56,
   "metadata": {},
   "outputs": [
    {
     "data": {
      "image/png": "[encoded data removed]",
      "text/plain": [
       "<Figure size 432x288 with 2 Axes>"
      ]
     },
     "metadata": {
      "needs_background": "light"
     },
     "output_type": "display_data"
    },
    {
     "name": "stdout",
     "output_type": "stream",
     "text": [
      "log-likelihood: 0.2786031733591441\n",
      "array([[3.55271368e-14, 1.33226763e-14, 4.44089210e-15, 7.09756184e-05,\n",
      "        2.15448229e+00],\n",
      "       [8.88178420e-15, 2.22044605e-15, 0.00000000e+00, 5.55111512e-16,\n",
      "        6.80025809e-01],\n",
      "       [4.44089210e-15, 2.08801496e+00, 2.22044605e-15, 5.55111512e-16,\n",
      "        1.55431223e-14],\n",
      "       [9.74565612e-02, 2.22044605e-15, 1.53201565e-01, 0.00000000e+00,\n",
      "        0.00000000e+00],\n",
      "       [4.44089210e-15, 7.28613416e-01, 0.00000000e+00, 3.02065863e+00,\n",
      "        0.00000000e+00]])\n"
     ]
    }
   ],
   "source": []
  },
  {
   "cell_type": "code",
   "execution_count": 16,
   "metadata": {},
   "outputs": [],
   "source": []
  },
  {
   "cell_type": "code",
   "execution_count": null,
   "metadata": {},
   "outputs": [],
   "source": []
  },
  {
   "cell_type": "code",
   "execution_count": null,
   "metadata": {},
   "outputs": [],
   "source": []
  },
  {
   "cell_type": "code",
   "execution_count": 40,
   "metadata": {},
   "outputs": [],
   "source": [
    "from tick.hawkes import HawkesExpKern, HawkesSumExpKern, HawkesSumGaussians\n",
    "\n",
    "decays_exp_kern = np.random.random([n_types, n_types])\n",
    "decays_sum_exp_kern =  [5]"
   ]
  },
  {
   "cell_type": "code",
   "execution_count": 41,
   "metadata": {},
   "outputs": [
    {
     "data": {
      "text/plain": [
       "<tick.hawkes.inference.hawkes_expkern_fixeddecay.HawkesExpKern at 0x7fe64adbadc0>"
      ]
     },
     "execution_count": 41,
     "metadata": {},
     "output_type": "execute_result"
    }
   ],
   "source": [
    "estimator_exp_kern = HawkesExpKern(decays_exp_kern)\n",
    "estimator_exp_kern.fit(processed_train)\n",
    "model_stats(estimator_exp_kern, test_events)"
   ]
  },
  {
   "cell_type": "code",
   "execution_count": 42,
   "metadata": {},
   "outputs": [
    {
     "data": {
      "image/png": "[encoded data removed]",
      "text/plain": [
       "<Figure size 432x288 with 2 Axes>"
      ]
     },
     "metadata": {
      "needs_background": "light"
     },
     "output_type": "display_data"
    },
    {
     "name": "stdout",
     "output_type": "stream",
     "text": [
      "log-likelihood: 0.8412918129515913\n",
      "array([[1.94103337e-02, 7.41697768e-02, 0.00000000e+00, 5.89654472e-02,\n",
      "        3.04101282e-02],\n",
      "       [2.45719425e-02, 4.88596370e-02, 0.00000000e+00, 0.00000000e+00,\n",
      "        0.00000000e+00],\n",
      "       [1.41599231e-02, 2.93639501e-02, 5.13916227e-04, 6.72733435e-02,\n",
      "        2.87241399e-02],\n",
      "       [7.78607267e-03, 3.26159123e-02, 1.58144681e-04, 0.00000000e+00,\n",
      "        0.00000000e+00],\n",
      "       [0.00000000e+00, 9.93557051e-02, 0.00000000e+00, 1.94060781e-01,\n",
      "        0.00000000e+00]])\n"
     ]
    }
   ],
   "source": [
    "model_stats(estimator_exp_kern, test_events)"
   ]
  },
  {
   "cell_type": "code",
   "execution_count": 44,
   "metadata": {},
   "outputs": [
    {
     "data": {
      "text/plain": [
       "<tick.hawkes.inference.hawkes_sumexpkern_fixeddecay.HawkesSumExpKern at 0x7fe64abba2e0>"
      ]
     },
     "execution_count": 44,
     "metadata": {},
     "output_type": "execute_result"
    }
   ],
   "source": [
    "estimator_sum_exp_kern = HawkesSumExpKern([11.97332586, 28.21542404, 11.400408  ])\n",
    "estimator_sum_exp_kern.fit(processed_train)"
   ]
  },
  {
   "cell_type": "code",
   "execution_count": 45,
   "metadata": {},
   "outputs": [
    {
     "data": {
      "image/png": "[encoded data removed]",
      "text/plain": [
       "<Figure size 432x288 with 2 Axes>"
      ]
     },
     "metadata": {
      "needs_background": "light"
     },
     "output_type": "display_data"
    },
    {
     "name": "stdout",
     "output_type": "stream",
     "text": [
      "log-likelihood: 0.8517828234802646\n",
      "array([[[0.        , 0.        , 0.01303192],\n",
      "        [0.        , 0.01876643, 0.0220005 ],\n",
      "        [0.        , 0.00441967, 0.00814505],\n",
      "        [0.00371563, 0.        , 0.03314966],\n",
      "        [0.00259893, 0.00357515, 0.01184948]],\n",
      "\n",
      "       [[0.00550578, 0.00419502, 0.00563906],\n",
      "        [0.00033015, 0.01159387, 0.01799949],\n",
      "        [0.        , 0.        , 0.        ],\n",
      "        [0.        , 0.        , 0.        ],\n",
      "        [0.        , 0.        , 0.        ]],\n",
      "\n",
      "       [[0.00206546, 0.00336946, 0.00217253],\n",
      "        [0.00097136, 0.00340059, 0.01413329],\n",
      "        [0.        , 0.00832002, 0.00884907],\n",
      "        [0.0076824 , 0.        , 0.02770168],\n",
      "        [0.00771823, 0.        , 0.00835858]],\n",
      "\n",
      "       [[0.00238317, 0.00163164, 0.00302604],\n",
      "        [0.00083924, 0.0014652 , 0.01220481],\n",
      "        [0.        , 0.        , 0.        ],\n",
      "        [0.        , 0.        , 0.        ],\n",
      "        [0.        , 0.        , 0.        ]],\n",
      "\n",
      "       [[0.00435069, 0.00359489, 0.01008194],\n",
      "        [0.0147225 , 0.00198973, 0.03572636],\n",
      "        [0.        , 0.00134772, 0.01081927],\n",
      "        [0.        , 0.00897173, 0.00998435],\n",
      "        [0.        , 0.        , 0.        ]]])\n"
     ]
    }
   ],
   "source": [
    "model_stats(estimator_sum_exp_kern, test_events)"
   ]
  },
  {
   "cell_type": "code",
   "execution_count": 48,
   "metadata": {},
   "outputs": [],
   "source": [
    "from scipy.optimize import basinhopping\n",
    "\n",
    "def optimise_decays_sum_exp_kern(decays):\n",
    "    est = HawkesSumExpKern(decays)\n",
    "    est.fit(processed_train)\n",
    "    return -est.score(test_events)\n",
    "\n",
    "ret = basinhopping(optimise_decays_sum_exp_kern, [11, 28, 11, 3, 2], niter=1, minimizer_kwargs = {\"method\": \"L-BFGS-B\"})"
   ]
  },
  {
   "cell_type": "code",
   "execution_count": 50,
   "metadata": {},
   "outputs": [
    {
     "data": {
      "text/plain": [
       "                        fun: -0.8517661668683926\n",
       " lowest_optimization_result:       fun: -0.8517661668683926\n",
       " hess_inv: <5x5 LbfgsInvHessProduct with dtype=float64>\n",
       "      jac: array([ 5.86197708e-06,  1.45439204e-06, -3.61932676e-06, -6.99440448e-07,\n",
       "       -1.37667644e-06])\n",
       "  message: 'CONVERGENCE: NORM_OF_PROJECTED_GRADIENT_<=_PGTOL'\n",
       "     nfev: 54\n",
       "      nit: 3\n",
       "     njev: 9\n",
       "   status: 0\n",
       "  success: True\n",
       "        x: array([11.21692811, 21.33531173, 12.88674563, 28.56137485, 15.62234539])\n",
       "                    message: ['requested number of basinhopping iterations completed successfully']\n",
       "      minimization_failures: 0\n",
       "                       nfev: 150\n",
       "                        nit: 1\n",
       "                       njev: 25\n",
       "                          x: array([11.21692811, 21.33531173, 12.88674563, 28.56137485, 15.62234539])"
      ]
     },
     "execution_count": 50,
     "metadata": {},
     "output_type": "execute_result"
    }
   ],
   "source": [
    "ret"
   ]
  },
  {
   "cell_type": "code",
   "execution_count": null,
   "metadata": {},
   "outputs": [],
   "source": []
  },
  {
   "cell_type": "code",
   "execution_count": 29,
   "metadata": {},
   "outputs": [
    {
     "data": {
      "text/plain": [
       "array([8.99374205e-01, 1.33517339e+00, 1.27971325e-01, 2.24329406e-01,\n",
       "       5.05215378e-02, 2.19769298e+00, 2.15245175e-02, 3.49651779e-01,\n",
       "       4.35951832e-02, 6.75598628e-02, 1.78188298e-02, 2.35137230e-02,\n",
       "       1.00217624e-01, 3.89649846e-01, 4.47773802e-02, 6.59793578e-01,\n",
       "       1.29628064e+00, 3.76289686e-01, 1.02458938e+00, 5.53725501e-02,\n",
       "       5.39328587e-01, 4.64592766e+00, 4.66886941e-01, 2.63664283e-01,\n",
       "       1.86438382e+00, 2.08867791e+00, 1.58321577e-01, 1.06631930e+00,\n",
       "       1.05520110e-01, 7.79899638e-02, 7.13265269e-02, 4.83663755e-01,\n",
       "       5.36155332e-01, 1.07729128e+00, 2.50486908e-01, 1.37256151e+00,\n",
       "       2.85866638e+00, 3.54055504e-02, 7.75204475e-01, 1.33560434e+00,\n",
       "       1.02416853e-01, 5.90088664e-02, 1.09591613e-01, 7.36525813e-01,\n",
       "       8.66619638e-01, 1.67161897e-01, 1.81693525e-01, 1.57537944e-02,\n",
       "       2.14773854e-01, 2.12027087e-01, 1.17885330e-01, 6.31115656e-04,\n",
       "       7.13736878e-02, 4.46259088e-01, 1.69871349e+00, 3.54910136e+00,\n",
       "       1.24006519e+00, 2.28749046e+00, 1.58230079e+00, 9.82269026e-01,\n",
       "       8.29325481e-02, 3.06341468e-01, 3.24337358e-01, 2.29425994e-01,\n",
       "       2.31979579e-01, 8.71505685e-01, 1.16310588e-01, 7.85413536e-01,\n",
       "       4.63248967e-01, 4.57740830e-02, 3.32286302e+00, 7.16349947e-02,\n",
       "       1.74415748e-01, 4.29997444e-02, 3.19293671e-01, 1.09428180e+00,\n",
       "       9.68029766e-02, 8.01496954e-01, 5.14227187e-01, 3.65095232e-02,\n",
       "       2.81460783e-01, 1.35148881e-01, 7.59447899e-01, 1.91043228e+00,\n",
       "       2.62158403e+00, 7.56209336e-03, 1.04284047e+00, 2.90820790e+00,\n",
       "       1.10612588e+00, 1.93267623e-01, 3.71912298e-01, 2.62381842e-02,\n",
       "       1.02303755e-01, 1.20651732e-01, 1.55976942e-01, 3.34329519e-01,\n",
       "       2.91280488e+00, 6.76834564e-01, 2.88310163e-01, 9.62756348e-02,\n",
       "       6.31291488e-01, 1.36001976e+00, 5.37241863e-01, 9.05359925e-02,\n",
       "       1.10852606e+00, 5.68330781e-01, 4.84145613e-01, 9.80641769e-01,\n",
       "       7.86412722e-01, 7.56329165e-01, 2.17302955e+00, 2.82384442e-01,\n",
       "       4.69594046e-01, 6.14842135e-02, 1.26071281e-01, 7.35437579e-01,\n",
       "       1.46113450e+00, 5.69375504e-01, 4.79266253e-01, 3.58613148e-01,\n",
       "       9.19667599e-02, 1.63790742e+00, 1.14297378e+00, 2.41775459e-01,\n",
       "       3.68409233e-01, 1.91369353e+00, 5.25424341e-01, 2.18662917e-01,\n",
       "       1.37345651e+00, 8.69295972e-01, 7.52531658e-01, 4.69064402e-01,\n",
       "       6.30292257e-01, 4.22653949e-01, 2.69170477e-01, 2.33931530e+00,\n",
       "       1.00917720e-01, 6.19072218e-01, 1.06823810e-01, 3.07897489e-01,\n",
       "       5.69016654e-01])"
      ]
     },
     "execution_count": 29,
     "metadata": {},
     "output_type": "execute_result"
    }
   ],
   "source": [
    "hawkes.timestamps[0][1:] - hawkes.timestamps[0][:-1]"
   ]
  },
  {
   "cell_type": "code",
   "execution_count": null,
   "metadata": {},
   "outputs": [],
   "source": []
  },
  {
   "cell_type": "code",
   "execution_count": 41,
   "metadata": {},
   "outputs": [],
   "source": [
    "from collections import OrderedDict"
   ]
  },
  {
   "cell_type": "code",
   "execution_count": 45,
   "metadata": {},
   "outputs": [],
   "source": [
    "import pandas as pd"
   ]
  },
  {
   "cell_type": "code",
   "execution_count": null,
   "metadata": {},
   "outputs": [],
   "source": []
  },
  {
   "cell_type": "code",
   "execution_count": 72,
   "metadata": {},
   "outputs": [],
   "source": [
    "from tick.hawkes import SimuHawkesExpKernels\n",
    "from tick.plot import plot_point_process\n",
    "\n",
    "n_nodes = 2  # dimension of the Hawkes process\n",
    "adjacency = 0.2 * np.ones((n_nodes, n_nodes))\n",
    "adjacency[0, 1] = 0\n",
    "adjacency[1, 0] = 0\n",
    "# adjacency[1, 2] = 0\n",
    "# adjacency[2, 1] = 0\n",
    "\n",
    "decays = 3 * np.ones((n_nodes, n_nodes))\n",
    "baseline = 0.5 * np.ones(n_nodes)\n",
    "\n",
    "\n",
    "dataset = []\n",
    "for i in range(1200):\n",
    "    hawkes = SimuHawkesExpKernels(adjacency=adjacency,\n",
    "                                  decays=decays,\n",
    "                                  baseline=baseline,\n",
    "                                  verbose=False)\n",
    "\n",
    "    run_time = 50\n",
    "    hawkes.end_time = run_time\n",
    "    dt = 0.01\n",
    "    hawkes.track_intensity(dt)\n",
    "    hawkes.simulate()\n",
    "\n",
    "    events_df = pd.DataFrame(columns = ['type_event', 'time_since_start'])\n",
    "    for i in hawkes.timestamps[0]:\n",
    "        events_df = events_df.append(pd.DataFrame({'type_event':0, \n",
    "                                                   'time_since_start':i}, index = [0]))\n",
    "        \n",
    "    for i in hawkes.timestamps[1]:\n",
    "        events_df = events_df.append(pd.DataFrame({'type_event':1, \n",
    "                                                   'time_since_start':i}, index = [0]))  \n",
    "        \n",
    "    events_df = events_df.sort_values('time_since_start').reset_index(drop = True)\n",
    "    events_df['time_since_last_event'] = events_df.time_since_start.diff(1).fillna(0)\n",
    "    events_df['idx_event'] = events_df.index + 1\n",
    "    dict_to_save = events_df.to_dict(orient = 'records')\n",
    "    dataset.append(dict_to_save)\n",
    "\n",
    "# fig, ax = plt.subplots(n_nodes, 1, figsize=(16, 8), sharex=True, sharey=True)\n",
    "# plot_point_process(hawkes, n_points=50000, t_min=10, max_jumps=30, ax=ax)\n",
    "# fig.tight_layout()"
   ]
  },
  {
   "cell_type": "code",
   "execution_count": 81,
   "metadata": {},
   "outputs": [
    {
     "data": {
      "text/plain": [
       "128"
      ]
     },
     "execution_count": 81,
     "metadata": {},
     "output_type": "execute_result"
    }
   ],
   "source": [
    "len(dataset[0])"
   ]
  },
  {
   "cell_type": "code",
   "execution_count": null,
   "metadata": {},
   "outputs": [],
   "source": []
  },
  {
   "cell_type": "code",
   "execution_count": null,
   "metadata": {},
   "outputs": [],
   "source": []
  },
  {
   "cell_type": "code",
   "execution_count": 74,
   "metadata": {},
   "outputs": [
    {
     "data": {
      "text/plain": [
       "1200"
      ]
     },
     "execution_count": 74,
     "metadata": {},
     "output_type": "execute_result"
    }
   ],
   "source": [
    "len(dataset)"
   ]
  },
  {
   "cell_type": "code",
   "execution_count": 75,
   "metadata": {},
   "outputs": [],
   "source": [
    "train = dataset[:1100]\n",
    "dev = dataset[1100:1150]\n",
    "test = dataset[1150:]"
   ]
  },
  {
   "cell_type": "code",
   "execution_count": 76,
   "metadata": {},
   "outputs": [],
   "source": [
    "path = '../../data/synthetic_data_2events/'"
   ]
  },
  {
   "cell_type": "code",
   "execution_count": 77,
   "metadata": {},
   "outputs": [],
   "source": [
    "import pickle"
   ]
  },
  {
   "cell_type": "code",
   "execution_count": 80,
   "metadata": {},
   "outputs": [],
   "source": [
    "with open(path + 'train.pkl', 'wb') as f:\n",
    "    pickle.dump({'train': train}, f)\n",
    "\n",
    "with open(path + 'dev.pkl', 'wb') as f:\n",
    "    pickle.dump({'dev': dev}, f)\n",
    "    \n",
    "with open(path + 'test.pkl', 'wb') as f:\n",
    "    pickle.dump({'test': test}, f)"
   ]
  },
  {
   "cell_type": "code",
   "execution_count": null,
   "metadata": {},
   "outputs": [],
   "source": []
  },
  {
   "cell_type": "code",
   "execution_count": 86,
   "metadata": {},
   "outputs": [
    {
     "data": {
      "image/png": "[encoded data removed]",
      "text/plain": [
       "<Figure size 1152x576 with 2 Axes>"
      ]
     },
     "metadata": {
      "needs_background": "light"
     },
     "output_type": "display_data"
    }
   ],
   "source": [
    "fig, ax = plt.subplots(n_nodes, 1, figsize=(16, 8), sharex=True, sharey=True)\n",
    "plot_point_process(hawkes, n_points=50000, t_min=10, max_jumps=30, ax=ax)\n",
    "fig.tight_layout()"
   ]
  },
  {
   "cell_type": "code",
   "execution_count": 87,
   "metadata": {},
   "outputs": [
    {
     "data": {
      "text/plain": [
       "[array([0.5       , 0.5       , 0.5       , ..., 0.56246633, 0.56062017,\n",
       "        0.55882857]), array([0.5, 0.5, 0.5, ..., 0.5, 0.5, 0.5])]"
      ]
     },
     "execution_count": 87,
     "metadata": {},
     "output_type": "execute_result"
    }
   ],
   "source": [
    "hawkes.tracked_intensity"
   ]
  },
  {
   "cell_type": "code",
   "execution_count": null,
   "metadata": {},
   "outputs": [],
   "source": []
  },
  {
   "cell_type": "code",
   "execution_count": null,
   "metadata": {},
   "outputs": [],
   "source": []
  },
  {
   "cell_type": "code",
   "execution_count": null,
   "metadata": {},
   "outputs": [],
   "source": []
  },
  {
   "cell_type": "code",
   "execution_count": 59,
   "metadata": {},
   "outputs": [],
   "source": []
  },
  {
   "cell_type": "code",
   "execution_count": 62,
   "metadata": {},
   "outputs": [
    {
     "data": {
      "text/plain": [
       "[{'type_event': 0,\n",
       "  'time_since_start': 0.5102921148350066,\n",
       "  'time_since_last_event': 0.0},\n",
       " {'type_event': 1,\n",
       "  'time_since_start': 0.6846441187450736,\n",
       "  'time_since_last_event': 0.174352003910067},\n",
       " {'type_event': 0,\n",
       "  'time_since_start': 1.0871380211406425,\n",
       "  'time_since_last_event': 0.4024939023955689},\n",
       " {'type_event': 0,\n",
       "  'time_since_start': 1.1382551922505593,\n",
       "  'time_since_last_event': 0.05111717110991676},\n",
       " {'type_event': 1,\n",
       "  'time_since_start': 1.5077806453190572,\n",
       "  'time_since_last_event': 0.36952545306849793},\n",
       " {'type_event': 1,\n",
       "  'time_since_start': 2.2094630897707184,\n",
       "  'time_since_last_event': 0.7016824444516612},\n",
       " {'type_event': 0,\n",
       "  'time_since_start': 2.788285466009115,\n",
       "  'time_since_last_event': 0.5788223762383966},\n",
       " {'type_event': 0,\n",
       "  'time_since_start': 3.082465927283688,\n",
       "  'time_since_last_event': 0.2941804612745731},\n",
       " {'type_event': 0,\n",
       "  'time_since_start': 3.3085319537347857,\n",
       "  'time_since_last_event': 0.22606602645109763},\n",
       " {'type_event': 1,\n",
       "  'time_since_start': 3.452443927955124,\n",
       "  'time_since_last_event': 0.1439119742203383},\n",
       " {'type_event': 1,\n",
       "  'time_since_start': 3.5662082507308988,\n",
       "  'time_since_last_event': 0.11376432277577475},\n",
       " {'type_event': 0,\n",
       "  'time_since_start': 3.658360566003923,\n",
       "  'time_since_last_event': 0.09215231527302414},\n",
       " {'type_event': 0,\n",
       "  'time_since_start': 3.9854439229784764,\n",
       "  'time_since_last_event': 0.3270833569745535},\n",
       " {'type_event': 1,\n",
       "  'time_since_start': 4.23695449467678,\n",
       "  'time_since_last_event': 0.25151057169830393},\n",
       " {'type_event': 0,\n",
       "  'time_since_start': 4.519227251338172,\n",
       "  'time_since_last_event': 0.28227275666139207},\n",
       " {'type_event': 1,\n",
       "  'time_since_start': 4.857456453956897,\n",
       "  'time_since_last_event': 0.3382292026187246},\n",
       " {'type_event': 1,\n",
       "  'time_since_start': 6.04093584941134,\n",
       "  'time_since_last_event': 1.1834793954544427},\n",
       " {'type_event': 1,\n",
       "  'time_since_start': 6.080419662676514,\n",
       "  'time_since_last_event': 0.03948381326517403},\n",
       " {'type_event': 0,\n",
       "  'time_since_start': 7.157329739061552,\n",
       "  'time_since_last_event': 1.0769100763850386},\n",
       " {'type_event': 0,\n",
       "  'time_since_start': 9.76996506641645,\n",
       "  'time_since_last_event': 2.612635327354898},\n",
       " {'type_event': 0,\n",
       "  'time_since_start': 10.765324385465608,\n",
       "  'time_since_last_event': 0.9953593190491574},\n",
       " {'type_event': 1,\n",
       "  'time_since_start': 10.977547768752018,\n",
       "  'time_since_last_event': 0.21222338328641044},\n",
       " {'type_event': 0,\n",
       "  'time_since_start': 11.675141401329705,\n",
       "  'time_since_last_event': 0.6975936325776875},\n",
       " {'type_event': 1,\n",
       "  'time_since_start': 11.79367985828835,\n",
       "  'time_since_last_event': 0.11853845695864429},\n",
       " {'type_event': 1,\n",
       "  'time_since_start': 12.635139117578847,\n",
       "  'time_since_last_event': 0.841459259290497},\n",
       " {'type_event': 1,\n",
       "  'time_since_start': 13.912889758772739,\n",
       "  'time_since_last_event': 1.277750641193892},\n",
       " {'type_event': 0,\n",
       "  'time_since_start': 15.23574194135264,\n",
       "  'time_since_last_event': 1.3228521825799007},\n",
       " {'type_event': 0,\n",
       "  'time_since_start': 15.756463680152576,\n",
       "  'time_since_last_event': 0.5207217387999368},\n",
       " {'type_event': 1,\n",
       "  'time_since_start': 16.189690790655316,\n",
       "  'time_since_last_event': 0.4332271105027399},\n",
       " {'type_event': 1,\n",
       "  'time_since_start': 17.60272240474622,\n",
       "  'time_since_last_event': 1.4130316140909045},\n",
       " {'type_event': 1,\n",
       "  'time_since_start': 18.226951285723274,\n",
       "  'time_since_last_event': 0.6242288809770535},\n",
       " {'type_event': 1,\n",
       "  'time_since_start': 19.359003876171727,\n",
       "  'time_since_last_event': 1.1320525904484526},\n",
       " {'type_event': 0,\n",
       "  'time_since_start': 20.77822080555206,\n",
       "  'time_since_last_event': 1.4192169293803332},\n",
       " {'type_event': 0,\n",
       "  'time_since_start': 20.806088665640907,\n",
       "  'time_since_last_event': 0.027867860088846896},\n",
       " {'type_event': 0,\n",
       "  'time_since_start': 21.058875767614225,\n",
       "  'time_since_last_event': 0.25278710197331833},\n",
       " {'type_event': 0,\n",
       "  'time_since_start': 21.22894456099426,\n",
       "  'time_since_last_event': 0.170068793380036},\n",
       " {'type_event': 1,\n",
       "  'time_since_start': 26.855529408084216,\n",
       "  'time_since_last_event': 5.626584847089955},\n",
       " {'type_event': 1,\n",
       "  'time_since_start': 27.824976065830636,\n",
       "  'time_since_last_event': 0.9694466577464205},\n",
       " {'type_event': 1,\n",
       "  'time_since_start': 28.058902573284318,\n",
       "  'time_since_last_event': 0.23392650745368115},\n",
       " {'type_event': 1,\n",
       "  'time_since_start': 28.09363481033717,\n",
       "  'time_since_last_event': 0.034732237052853776},\n",
       " {'type_event': 1,\n",
       "  'time_since_start': 28.417769356340475,\n",
       "  'time_since_last_event': 0.3241345460033038},\n",
       " {'type_event': 0,\n",
       "  'time_since_start': 28.535310216885033,\n",
       "  'time_since_last_event': 0.11754086054455826},\n",
       " {'type_event': 0,\n",
       "  'time_since_start': 28.806653665448636,\n",
       "  'time_since_last_event': 0.27134344856360215},\n",
       " {'type_event': 1,\n",
       "  'time_since_start': 29.692299482292373,\n",
       "  'time_since_last_event': 0.8856458168437378},\n",
       " {'type_event': 1,\n",
       "  'time_since_start': 30.207005157006673,\n",
       "  'time_since_last_event': 0.5147056747142997},\n",
       " {'type_event': 0,\n",
       "  'time_since_start': 33.786325365668134,\n",
       "  'time_since_last_event': 3.5793202086614606},\n",
       " {'type_event': 0,\n",
       "  'time_since_start': 34.18175065555713,\n",
       "  'time_since_last_event': 0.3954252898889976},\n",
       " {'type_event': 0,\n",
       "  'time_since_start': 34.26602708754212,\n",
       "  'time_since_last_event': 0.08427643198498913},\n",
       " {'type_event': 0,\n",
       "  'time_since_start': 34.673149230776446,\n",
       "  'time_since_last_event': 0.40712214323432505},\n",
       " {'type_event': 0,\n",
       "  'time_since_start': 34.75257463097587,\n",
       "  'time_since_last_event': 0.07942540019942612},\n",
       " {'type_event': 0,\n",
       "  'time_since_start': 36.37823184298857,\n",
       "  'time_since_last_event': 1.6256572120126975},\n",
       " {'type_event': 1,\n",
       "  'time_since_start': 37.70866272526172,\n",
       "  'time_since_last_event': 1.3304308822731485},\n",
       " {'type_event': 1,\n",
       "  'time_since_start': 37.811895498014714,\n",
       "  'time_since_last_event': 0.10323277275299603},\n",
       " {'type_event': 1,\n",
       "  'time_since_start': 37.87825681378879,\n",
       "  'time_since_last_event': 0.06636131577407411},\n",
       " {'type_event': 1,\n",
       "  'time_since_start': 38.00621556295719,\n",
       "  'time_since_last_event': 0.12795874916839978},\n",
       " {'type_event': 1,\n",
       "  'time_since_start': 38.11381449566214,\n",
       "  'time_since_last_event': 0.10759893270495269},\n",
       " {'type_event': 0,\n",
       "  'time_since_start': 38.84307313055434,\n",
       "  'time_since_last_event': 0.7292586348921972},\n",
       " {'type_event': 0,\n",
       "  'time_since_start': 38.93055522841075,\n",
       "  'time_since_last_event': 0.08748209785641592},\n",
       " {'type_event': 1,\n",
       "  'time_since_start': 39.12182696694054,\n",
       "  'time_since_last_event': 0.1912717385297853},\n",
       " {'type_event': 1,\n",
       "  'time_since_start': 40.27044613339008,\n",
       "  'time_since_last_event': 1.1486191664495422},\n",
       " {'type_event': 0,\n",
       "  'time_since_start': 40.494805411819364,\n",
       "  'time_since_last_event': 0.22435927842928294},\n",
       " {'type_event': 1,\n",
       "  'time_since_start': 40.66395716504664,\n",
       "  'time_since_last_event': 0.1691517532272755},\n",
       " {'type_event': 0,\n",
       "  'time_since_start': 42.186113111931206,\n",
       "  'time_since_last_event': 1.522155946884567},\n",
       " {'type_event': 0,\n",
       "  'time_since_start': 42.22488579835897,\n",
       "  'time_since_last_event': 0.03877268642776244},\n",
       " {'type_event': 0,\n",
       "  'time_since_start': 42.68341429648088,\n",
       "  'time_since_last_event': 0.45852849812191465},\n",
       " {'type_event': 1,\n",
       "  'time_since_start': 42.88491374261966,\n",
       "  'time_since_last_event': 0.2014994461387758},\n",
       " {'type_event': 1,\n",
       "  'time_since_start': 44.36825688849831,\n",
       "  'time_since_last_event': 1.4833431458786492},\n",
       " {'type_event': 1,\n",
       "  'time_since_start': 44.5019254654042,\n",
       "  'time_since_last_event': 0.1336685769058903},\n",
       " {'type_event': 1,\n",
       "  'time_since_start': 44.90037808198288,\n",
       "  'time_since_last_event': 0.39845261657868036},\n",
       " {'type_event': 1,\n",
       "  'time_since_start': 44.991348326891746,\n",
       "  'time_since_last_event': 0.09097024490886696},\n",
       " {'type_event': 0,\n",
       "  'time_since_start': 45.11283996628481,\n",
       "  'time_since_last_event': 0.12149163939306362},\n",
       " {'type_event': 0,\n",
       "  'time_since_start': 45.66810063725291,\n",
       "  'time_since_last_event': 0.5552606709681029},\n",
       " {'type_event': 0,\n",
       "  'time_since_start': 45.77203211970369,\n",
       "  'time_since_last_event': 0.10393148245077555},\n",
       " {'type_event': 1,\n",
       "  'time_since_start': 47.26441870570289,\n",
       "  'time_since_last_event': 1.4923865859991992},\n",
       " {'type_event': 0,\n",
       "  'time_since_start': 47.320396432737006,\n",
       "  'time_since_last_event': 0.05597772703411863},\n",
       " {'type_event': 1,\n",
       "  'time_since_start': 47.347243349374544,\n",
       "  'time_since_last_event': 0.026846916637538243},\n",
       " {'type_event': 1,\n",
       "  'time_since_start': 47.479249942736864,\n",
       "  'time_since_last_event': 0.1320065933623198},\n",
       " {'type_event': 1,\n",
       "  'time_since_start': 48.26430383909152,\n",
       "  'time_since_last_event': 0.7850538963546541},\n",
       " {'type_event': 1,\n",
       "  'time_since_start': 48.44787899563604,\n",
       "  'time_since_last_event': 0.18357515654452072},\n",
       " {'type_event': 1,\n",
       "  'time_since_start': 49.330455965728135,\n",
       "  'time_since_last_event': 0.8825769700920958},\n",
       " {'type_event': 0,\n",
       "  'time_since_start': 50.065941784845506,\n",
       "  'time_since_last_event': 0.7354858191173719},\n",
       " {'type_event': 1,\n",
       "  'time_since_start': 50.60678252281799,\n",
       "  'time_since_last_event': 0.5408407379724807},\n",
       " {'type_event': 1,\n",
       "  'time_since_start': 50.88090512030916,\n",
       "  'time_since_last_event': 0.2741225974911714},\n",
       " {'type_event': 1,\n",
       "  'time_since_start': 50.91880466866926,\n",
       "  'time_since_last_event': 0.037899548360101676},\n",
       " {'type_event': 0,\n",
       "  'time_since_start': 52.321738638787195,\n",
       "  'time_since_last_event': 1.4029339701179353},\n",
       " {'type_event': 1,\n",
       "  'time_since_start': 52.42698646232412,\n",
       "  'time_since_last_event': 0.10524782353692785},\n",
       " {'type_event': 1,\n",
       "  'time_since_start': 52.52022591808799,\n",
       "  'time_since_last_event': 0.0932394557638645},\n",
       " {'type_event': 0,\n",
       "  'time_since_start': 52.6616589455591,\n",
       "  'time_since_last_event': 0.14143302747110909},\n",
       " {'type_event': 0,\n",
       "  'time_since_start': 53.04182305212166,\n",
       "  'time_since_last_event': 0.3801641065625603},\n",
       " {'type_event': 1,\n",
       "  'time_since_start': 53.20915684675671,\n",
       "  'time_since_last_event': 0.1673337946350557},\n",
       " {'type_event': 1,\n",
       "  'time_since_start': 53.30613845452827,\n",
       "  'time_since_last_event': 0.09698160777156062},\n",
       " {'type_event': 0,\n",
       "  'time_since_start': 55.61313016353826,\n",
       "  'time_since_last_event': 2.306991709009985},\n",
       " {'type_event': 0,\n",
       "  'time_since_start': 55.80440089186334,\n",
       "  'time_since_last_event': 0.19127072832507963},\n",
       " {'type_event': 0,\n",
       "  'time_since_start': 55.81967842304227,\n",
       "  'time_since_last_event': 0.01527753117893127},\n",
       " {'type_event': 1,\n",
       "  'time_since_start': 56.71746373206882,\n",
       "  'time_since_last_event': 0.8977853090265526},\n",
       " {'type_event': 1,\n",
       "  'time_since_start': 59.273244588842985,\n",
       "  'time_since_last_event': 2.555780856774163},\n",
       " {'type_event': 0,\n",
       "  'time_since_start': 59.301582862985796,\n",
       "  'time_since_last_event': 0.028338274142811315},\n",
       " {'type_event': 0,\n",
       "  'time_since_start': 60.09845591244013,\n",
       "  'time_since_last_event': 0.7968730494543337},\n",
       " {'type_event': 0,\n",
       "  'time_since_start': 60.30871079527944,\n",
       "  'time_since_last_event': 0.21025488283930827},\n",
       " {'type_event': 1,\n",
       "  'time_since_start': 60.55654022615204,\n",
       "  'time_since_last_event': 0.24782943087259923},\n",
       " {'type_event': 0,\n",
       "  'time_since_start': 60.710045222991496,\n",
       "  'time_since_last_event': 0.15350499683945884},\n",
       " {'type_event': 0,\n",
       "  'time_since_start': 60.78437018956494,\n",
       "  'time_since_last_event': 0.07432496657344245},\n",
       " {'type_event': 0,\n",
       "  'time_since_start': 60.84096061787157,\n",
       "  'time_since_last_event': 0.05659042830663452},\n",
       " {'type_event': 0,\n",
       "  'time_since_start': 60.87228563528724,\n",
       "  'time_since_last_event': 0.031325017415667844},\n",
       " {'type_event': 0,\n",
       "  'time_since_start': 60.94247432961195,\n",
       "  'time_since_last_event': 0.07018869432470609},\n",
       " {'type_event': 0,\n",
       "  'time_since_start': 61.311151190085056,\n",
       "  'time_since_last_event': 0.36867686047310855},\n",
       " {'type_event': 0,\n",
       "  'time_since_start': 61.339378761250224,\n",
       "  'time_since_last_event': 0.02822757116516783},\n",
       " {'type_event': 0,\n",
       "  'time_since_start': 61.921395436727295,\n",
       "  'time_since_last_event': 0.582016675477071},\n",
       " {'type_event': 1,\n",
       "  'time_since_start': 62.93790877307301,\n",
       "  'time_since_last_event': 1.0165133363457173},\n",
       " {'type_event': 0,\n",
       "  'time_since_start': 64.9189920233386,\n",
       "  'time_since_last_event': 1.9810832502655913},\n",
       " {'type_event': 1,\n",
       "  'time_since_start': 65.18395539786867,\n",
       "  'time_since_last_event': 0.264963374530069},\n",
       " {'type_event': 1,\n",
       "  'time_since_start': 65.354716815095,\n",
       "  'time_since_last_event': 0.17076141722633054},\n",
       " {'type_event': 0,\n",
       "  'time_since_start': 65.42456248446122,\n",
       "  'time_since_last_event': 0.06984566936621661},\n",
       " {'type_event': 0,\n",
       "  'time_since_start': 65.54453527085823,\n",
       "  'time_since_last_event': 0.11997278639701392},\n",
       " {'type_event': 0,\n",
       "  'time_since_start': 66.09008311427961,\n",
       "  'time_since_last_event': 0.5455478434213745},\n",
       " {'type_event': 0,\n",
       "  'time_since_start': 66.23373718147302,\n",
       "  'time_since_last_event': 0.14365406719340967},\n",
       " {'type_event': 0,\n",
       "  'time_since_start': 66.36233847896737,\n",
       "  'time_since_last_event': 0.128601297494356},\n",
       " {'type_event': 0,\n",
       "  'time_since_start': 66.99382301130396,\n",
       "  'time_since_last_event': 0.6314845323365859},\n",
       " {'type_event': 0,\n",
       "  'time_since_start': 68.00861646946018,\n",
       "  'time_since_last_event': 1.0147934581562197},\n",
       " {'type_event': 1,\n",
       "  'time_since_start': 69.25670748925495,\n",
       "  'time_since_last_event': 1.2480910197947708},\n",
       " {'type_event': 1,\n",
       "  'time_since_start': 69.26625479097194,\n",
       "  'time_since_last_event': 0.009547301716992251},\n",
       " {'type_event': 1,\n",
       "  'time_since_start': 69.5456168231253,\n",
       "  'time_since_last_event': 0.2793620321533581},\n",
       " {'type_event': 0,\n",
       "  'time_since_start': 69.99250111650116,\n",
       "  'time_since_last_event': 0.44688429337585944},\n",
       " {'type_event': 1,\n",
       "  'time_since_start': 71.36436908370521,\n",
       "  'time_since_last_event': 1.3718679672040537},\n",
       " {'type_event': 1,\n",
       "  'time_since_start': 71.77426990657526,\n",
       "  'time_since_last_event': 0.4099008228700427},\n",
       " {'type_event': 0,\n",
       "  'time_since_start': 72.6573298269136,\n",
       "  'time_since_last_event': 0.88305992033834},\n",
       " {'type_event': 0,\n",
       "  'time_since_start': 72.95412834840417,\n",
       "  'time_since_last_event': 0.2967985214905724},\n",
       " {'type_event': 0,\n",
       "  'time_since_start': 74.23617613887495,\n",
       "  'time_since_last_event': 1.2820477904707843},\n",
       " {'type_event': 1,\n",
       "  'time_since_start': 74.32887361278964,\n",
       "  'time_since_last_event': 0.09269747391468286},\n",
       " {'type_event': 1,\n",
       "  'time_since_start': 74.9750825258847,\n",
       "  'time_since_last_event': 0.6462089130950659},\n",
       " {'type_event': 1,\n",
       "  'time_since_start': 75.11620355055064,\n",
       "  'time_since_last_event': 0.14112102466593512},\n",
       " {'type_event': 0,\n",
       "  'time_since_start': 75.4017354642959,\n",
       "  'time_since_last_event': 0.28553191374525966},\n",
       " {'type_event': 1,\n",
       "  'time_since_start': 75.47917789584581,\n",
       "  'time_since_last_event': 0.07744243154991182},\n",
       " {'type_event': 0,\n",
       "  'time_since_start': 75.58524838399711,\n",
       "  'time_since_last_event': 0.10607048815130327},\n",
       " {'type_event': 1,\n",
       "  'time_since_start': 75.74227738974014,\n",
       "  'time_since_last_event': 0.15702900574302703},\n",
       " {'type_event': 0,\n",
       "  'time_since_start': 76.81161052798727,\n",
       "  'time_since_last_event': 1.0693331382471314},\n",
       " {'type_event': 0,\n",
       "  'time_since_start': 77.20055143850385,\n",
       "  'time_since_last_event': 0.3889409105165811},\n",
       " {'type_event': 0,\n",
       "  'time_since_start': 77.40835142196423,\n",
       "  'time_since_last_event': 0.20779998346037587},\n",
       " {'type_event': 1,\n",
       "  'time_since_start': 77.4845512198087,\n",
       "  'time_since_last_event': 0.07619979784446684},\n",
       " {'type_event': 1,\n",
       "  'time_since_start': 77.88062661994498,\n",
       "  'time_since_last_event': 0.39607540013628295},\n",
       " {'type_event': 0,\n",
       "  'time_since_start': 79.49631034268644,\n",
       "  'time_since_last_event': 1.6156837227414655},\n",
       " {'type_event': 0,\n",
       "  'time_since_start': 81.04575484788427,\n",
       "  'time_since_last_event': 1.549444505197826},\n",
       " {'type_event': 0,\n",
       "  'time_since_start': 83.43534191592595,\n",
       "  'time_since_last_event': 2.3895870680416778},\n",
       " {'type_event': 0,\n",
       "  'time_since_start': 86.68784908107814,\n",
       "  'time_since_last_event': 3.2525071651521955},\n",
       " {'type_event': 0,\n",
       "  'time_since_start': 86.82347235583336,\n",
       "  'time_since_last_event': 0.1356232747552184},\n",
       " {'type_event': 1,\n",
       "  'time_since_start': 86.99708141517871,\n",
       "  'time_since_last_event': 0.17360905934535253},\n",
       " {'type_event': 0,\n",
       "  'time_since_start': 87.38535595869094,\n",
       "  'time_since_last_event': 0.38827454351222457},\n",
       " {'type_event': 0,\n",
       "  'time_since_start': 87.97358888840725,\n",
       "  'time_since_last_event': 0.5882329297163125},\n",
       " {'type_event': 0,\n",
       "  'time_since_start': 88.74697120710528,\n",
       "  'time_since_last_event': 0.773382318698026},\n",
       " {'type_event': 1,\n",
       "  'time_since_start': 89.79061300291558,\n",
       "  'time_since_last_event': 1.0436417958103021},\n",
       " {'type_event': 0,\n",
       "  'time_since_start': 89.9987133707966,\n",
       "  'time_since_last_event': 0.20810036788101627},\n",
       " {'type_event': 1,\n",
       "  'time_since_start': 90.74908513054571,\n",
       "  'time_since_last_event': 0.7503717597491146},\n",
       " {'type_event': 1,\n",
       "  'time_since_start': 91.74771120201565,\n",
       "  'time_since_last_event': 0.9986260714699426},\n",
       " {'type_event': 0,\n",
       "  'time_since_start': 93.1536319299803,\n",
       "  'time_since_last_event': 1.4059207279646557},\n",
       " {'type_event': 0,\n",
       "  'time_since_start': 94.12539412580176,\n",
       "  'time_since_last_event': 0.9717621958214551},\n",
       " {'type_event': 1,\n",
       "  'time_since_start': 94.22204740891392,\n",
       "  'time_since_last_event': 0.09665328311216115},\n",
       " {'type_event': 0,\n",
       "  'time_since_start': 96.62933217151682,\n",
       "  'time_since_last_event': 2.407284762602899},\n",
       " {'type_event': 0,\n",
       "  'time_since_start': 96.89713130217615,\n",
       "  'time_since_last_event': 0.26779913065932703},\n",
       " {'type_event': 0,\n",
       "  'time_since_start': 97.00707726458798,\n",
       "  'time_since_last_event': 0.10994596241182819},\n",
       " {'type_event': 0,\n",
       "  'time_since_start': 97.04671921180075,\n",
       "  'time_since_last_event': 0.03964194721277181},\n",
       " {'type_event': 1,\n",
       "  'time_since_start': 97.14849126507218,\n",
       "  'time_since_last_event': 0.10177205327143213},\n",
       " {'type_event': 0,\n",
       "  'time_since_start': 97.38238284585479,\n",
       "  'time_since_last_event': 0.23389158078261119},\n",
       " {'type_event': 1,\n",
       "  'time_since_start': 98.44051870609226,\n",
       "  'time_since_last_event': 1.0581358602374706},\n",
       " {'type_event': 0,\n",
       "  'time_since_start': 99.40589920250854,\n",
       "  'time_since_last_event': 0.9653804964162731}]"
      ]
     },
     "execution_count": 62,
     "metadata": {},
     "output_type": "execute_result"
    }
   ],
   "source": []
  },
  {
   "cell_type": "code",
   "execution_count": null,
   "metadata": {},
   "outputs": [],
   "source": []
  },
  {
   "cell_type": "code",
   "execution_count": null,
   "metadata": {},
   "outputs": [],
   "source": []
  },
  {
   "cell_type": "code",
   "execution_count": null,
   "metadata": {},
   "outputs": [],
   "source": []
  },
  {
   "cell_type": "code",
   "execution_count": 40,
   "metadata": {},
   "outputs": [
    {
     "data": {
      "text/plain": [
       "[{'type_event': 0, 'time_since_start': 0.5102921148350066},\n",
       " {'type_event': 0, 'time_since_start': 1.0871380211406425},\n",
       " {'type_event': 0, 'time_since_start': 1.1382551922505593},\n",
       " {'type_event': 0, 'time_since_start': 2.788285466009115},\n",
       " {'type_event': 0, 'time_since_start': 3.082465927283688},\n",
       " {'type_event': 0, 'time_since_start': 3.3085319537347857},\n",
       " {'type_event': 0, 'time_since_start': 3.658360566003923},\n",
       " {'type_event': 0, 'time_since_start': 3.9854439229784764},\n",
       " {'type_event': 0, 'time_since_start': 4.519227251338172},\n",
       " {'type_event': 0, 'time_since_start': 7.157329739061552},\n",
       " {'type_event': 0, 'time_since_start': 9.76996506641645},\n",
       " {'type_event': 0, 'time_since_start': 10.765324385465608},\n",
       " {'type_event': 0, 'time_since_start': 11.675141401329705},\n",
       " {'type_event': 0, 'time_since_start': 15.23574194135264},\n",
       " {'type_event': 0, 'time_since_start': 15.756463680152576},\n",
       " {'type_event': 0, 'time_since_start': 20.77822080555206},\n",
       " {'type_event': 0, 'time_since_start': 20.806088665640907},\n",
       " {'type_event': 0, 'time_since_start': 21.058875767614225},\n",
       " {'type_event': 0, 'time_since_start': 21.22894456099426},\n",
       " {'type_event': 0, 'time_since_start': 28.535310216885033},\n",
       " {'type_event': 0, 'time_since_start': 28.806653665448636},\n",
       " {'type_event': 0, 'time_since_start': 33.786325365668134},\n",
       " {'type_event': 0, 'time_since_start': 34.18175065555713},\n",
       " {'type_event': 0, 'time_since_start': 34.26602708754212},\n",
       " {'type_event': 0, 'time_since_start': 34.673149230776446},\n",
       " {'type_event': 0, 'time_since_start': 34.75257463097587},\n",
       " {'type_event': 0, 'time_since_start': 36.37823184298857},\n",
       " {'type_event': 0, 'time_since_start': 38.84307313055434},\n",
       " {'type_event': 0, 'time_since_start': 38.93055522841075},\n",
       " {'type_event': 0, 'time_since_start': 40.494805411819364},\n",
       " {'type_event': 0, 'time_since_start': 42.186113111931206},\n",
       " {'type_event': 0, 'time_since_start': 42.22488579835897},\n",
       " {'type_event': 0, 'time_since_start': 42.68341429648088},\n",
       " {'type_event': 0, 'time_since_start': 45.11283996628481},\n",
       " {'type_event': 0, 'time_since_start': 45.66810063725291},\n",
       " {'type_event': 0, 'time_since_start': 45.77203211970369},\n",
       " {'type_event': 0, 'time_since_start': 47.320396432737006},\n",
       " {'type_event': 0, 'time_since_start': 50.065941784845506},\n",
       " {'type_event': 0, 'time_since_start': 52.321738638787195},\n",
       " {'type_event': 0, 'time_since_start': 52.6616589455591},\n",
       " {'type_event': 0, 'time_since_start': 53.04182305212166},\n",
       " {'type_event': 0, 'time_since_start': 55.61313016353826},\n",
       " {'type_event': 0, 'time_since_start': 55.80440089186334},\n",
       " {'type_event': 0, 'time_since_start': 55.81967842304227},\n",
       " {'type_event': 0, 'time_since_start': 59.301582862985796},\n",
       " {'type_event': 0, 'time_since_start': 60.09845591244013},\n",
       " {'type_event': 0, 'time_since_start': 60.30871079527944},\n",
       " {'type_event': 0, 'time_since_start': 60.710045222991496},\n",
       " {'type_event': 0, 'time_since_start': 60.78437018956494},\n",
       " {'type_event': 0, 'time_since_start': 60.84096061787157},\n",
       " {'type_event': 0, 'time_since_start': 60.87228563528724},\n",
       " {'type_event': 0, 'time_since_start': 60.94247432961195},\n",
       " {'type_event': 0, 'time_since_start': 61.311151190085056},\n",
       " {'type_event': 0, 'time_since_start': 61.339378761250224},\n",
       " {'type_event': 0, 'time_since_start': 61.921395436727295},\n",
       " {'type_event': 0, 'time_since_start': 64.9189920233386},\n",
       " {'type_event': 0, 'time_since_start': 65.42456248446122},\n",
       " {'type_event': 0, 'time_since_start': 65.54453527085823},\n",
       " {'type_event': 0, 'time_since_start': 66.09008311427961},\n",
       " {'type_event': 0, 'time_since_start': 66.23373718147302},\n",
       " {'type_event': 0, 'time_since_start': 66.36233847896737},\n",
       " {'type_event': 0, 'time_since_start': 66.99382301130396},\n",
       " {'type_event': 0, 'time_since_start': 68.00861646946018},\n",
       " {'type_event': 0, 'time_since_start': 69.99250111650116},\n",
       " {'type_event': 0, 'time_since_start': 72.6573298269136},\n",
       " {'type_event': 0, 'time_since_start': 72.95412834840417},\n",
       " {'type_event': 0, 'time_since_start': 74.23617613887495},\n",
       " {'type_event': 0, 'time_since_start': 75.4017354642959},\n",
       " {'type_event': 0, 'time_since_start': 75.58524838399711},\n",
       " {'type_event': 0, 'time_since_start': 76.81161052798727},\n",
       " {'type_event': 0, 'time_since_start': 77.20055143850385},\n",
       " {'type_event': 0, 'time_since_start': 77.40835142196423},\n",
       " {'type_event': 0, 'time_since_start': 79.49631034268644},\n",
       " {'type_event': 0, 'time_since_start': 81.04575484788427},\n",
       " {'type_event': 0, 'time_since_start': 83.43534191592595},\n",
       " {'type_event': 0, 'time_since_start': 86.68784908107814},\n",
       " {'type_event': 0, 'time_since_start': 86.82347235583336},\n",
       " {'type_event': 0, 'time_since_start': 87.38535595869094},\n",
       " {'type_event': 0, 'time_since_start': 87.97358888840725},\n",
       " {'type_event': 0, 'time_since_start': 88.74697120710528},\n",
       " {'type_event': 0, 'time_since_start': 89.9987133707966},\n",
       " {'type_event': 0, 'time_since_start': 93.1536319299803},\n",
       " {'type_event': 0, 'time_since_start': 94.12539412580176},\n",
       " {'type_event': 0, 'time_since_start': 96.62933217151682},\n",
       " {'type_event': 0, 'time_since_start': 96.89713130217615},\n",
       " {'type_event': 0, 'time_since_start': 97.00707726458798},\n",
       " {'type_event': 0, 'time_since_start': 97.04671921180075},\n",
       " {'type_event': 0, 'time_since_start': 97.38238284585479},\n",
       " {'type_event': 0, 'time_since_start': 99.40589920250854},\n",
       " {'type_event': 1, 'time_since_start': 0.6846441187450736},\n",
       " {'type_event': 1, 'time_since_start': 1.5077806453190572},\n",
       " {'type_event': 1, 'time_since_start': 2.2094630897707184},\n",
       " {'type_event': 1, 'time_since_start': 3.452443927955124},\n",
       " {'type_event': 1, 'time_since_start': 3.5662082507308988},\n",
       " {'type_event': 1, 'time_since_start': 4.23695449467678},\n",
       " {'type_event': 1, 'time_since_start': 4.857456453956897},\n",
       " {'type_event': 1, 'time_since_start': 6.04093584941134},\n",
       " {'type_event': 1, 'time_since_start': 6.080419662676514},\n",
       " {'type_event': 1, 'time_since_start': 10.977547768752018},\n",
       " {'type_event': 1, 'time_since_start': 11.79367985828835},\n",
       " {'type_event': 1, 'time_since_start': 12.635139117578847},\n",
       " {'type_event': 1, 'time_since_start': 13.912889758772739},\n",
       " {'type_event': 1, 'time_since_start': 16.189690790655316},\n",
       " {'type_event': 1, 'time_since_start': 17.60272240474622},\n",
       " {'type_event': 1, 'time_since_start': 18.226951285723274},\n",
       " {'type_event': 1, 'time_since_start': 19.359003876171727},\n",
       " {'type_event': 1, 'time_since_start': 26.855529408084216},\n",
       " {'type_event': 1, 'time_since_start': 27.824976065830636},\n",
       " {'type_event': 1, 'time_since_start': 28.058902573284318},\n",
       " {'type_event': 1, 'time_since_start': 28.09363481033717},\n",
       " {'type_event': 1, 'time_since_start': 28.417769356340475},\n",
       " {'type_event': 1, 'time_since_start': 29.692299482292373},\n",
       " {'type_event': 1, 'time_since_start': 30.207005157006673},\n",
       " {'type_event': 1, 'time_since_start': 37.70866272526172},\n",
       " {'type_event': 1, 'time_since_start': 37.811895498014714},\n",
       " {'type_event': 1, 'time_since_start': 37.87825681378879},\n",
       " {'type_event': 1, 'time_since_start': 38.00621556295719},\n",
       " {'type_event': 1, 'time_since_start': 38.11381449566214},\n",
       " {'type_event': 1, 'time_since_start': 39.12182696694054},\n",
       " {'type_event': 1, 'time_since_start': 40.27044613339008},\n",
       " {'type_event': 1, 'time_since_start': 40.66395716504664},\n",
       " {'type_event': 1, 'time_since_start': 42.88491374261966},\n",
       " {'type_event': 1, 'time_since_start': 44.36825688849831},\n",
       " {'type_event': 1, 'time_since_start': 44.5019254654042},\n",
       " {'type_event': 1, 'time_since_start': 44.90037808198288},\n",
       " {'type_event': 1, 'time_since_start': 44.991348326891746},\n",
       " {'type_event': 1, 'time_since_start': 47.26441870570289},\n",
       " {'type_event': 1, 'time_since_start': 47.347243349374544},\n",
       " {'type_event': 1, 'time_since_start': 47.479249942736864},\n",
       " {'type_event': 1, 'time_since_start': 48.26430383909152},\n",
       " {'type_event': 1, 'time_since_start': 48.44787899563604},\n",
       " {'type_event': 1, 'time_since_start': 49.330455965728135},\n",
       " {'type_event': 1, 'time_since_start': 50.60678252281799},\n",
       " {'type_event': 1, 'time_since_start': 50.88090512030916},\n",
       " {'type_event': 1, 'time_since_start': 50.91880466866926},\n",
       " {'type_event': 1, 'time_since_start': 52.42698646232412},\n",
       " {'type_event': 1, 'time_since_start': 52.52022591808799},\n",
       " {'type_event': 1, 'time_since_start': 53.20915684675671},\n",
       " {'type_event': 1, 'time_since_start': 53.30613845452827},\n",
       " {'type_event': 1, 'time_since_start': 56.71746373206882},\n",
       " {'type_event': 1, 'time_since_start': 59.273244588842985},\n",
       " {'type_event': 1, 'time_since_start': 60.55654022615204},\n",
       " {'type_event': 1, 'time_since_start': 62.93790877307301},\n",
       " {'type_event': 1, 'time_since_start': 65.18395539786867},\n",
       " {'type_event': 1, 'time_since_start': 65.354716815095},\n",
       " {'type_event': 1, 'time_since_start': 69.25670748925495},\n",
       " {'type_event': 1, 'time_since_start': 69.26625479097194},\n",
       " {'type_event': 1, 'time_since_start': 69.5456168231253},\n",
       " {'type_event': 1, 'time_since_start': 71.36436908370521},\n",
       " {'type_event': 1, 'time_since_start': 71.77426990657526},\n",
       " {'type_event': 1, 'time_since_start': 74.32887361278964},\n",
       " {'type_event': 1, 'time_since_start': 74.9750825258847},\n",
       " {'type_event': 1, 'time_since_start': 75.11620355055064},\n",
       " {'type_event': 1, 'time_since_start': 75.47917789584581},\n",
       " {'type_event': 1, 'time_since_start': 75.74227738974014},\n",
       " {'type_event': 1, 'time_since_start': 77.4845512198087},\n",
       " {'type_event': 1, 'time_since_start': 77.88062661994498},\n",
       " {'type_event': 1, 'time_since_start': 86.99708141517871},\n",
       " {'type_event': 1, 'time_since_start': 89.79061300291558},\n",
       " {'type_event': 1, 'time_since_start': 90.74908513054571},\n",
       " {'type_event': 1, 'time_since_start': 91.74771120201565},\n",
       " {'type_event': 1, 'time_since_start': 94.22204740891392},\n",
       " {'type_event': 1, 'time_since_start': 97.14849126507218},\n",
       " {'type_event': 1, 'time_since_start': 98.44051870609226}]"
      ]
     },
     "execution_count": 40,
     "metadata": {},
     "output_type": "execute_result"
    }
   ],
   "source": [
    "events_dict"
   ]
  },
  {
   "cell_type": "code",
   "execution_count": null,
   "metadata": {},
   "outputs": [],
   "source": []
  },
  {
   "cell_type": "code",
   "execution_count": null,
   "metadata": {},
   "outputs": [],
   "source": []
  },
  {
   "cell_type": "code",
   "execution_count": 38,
   "metadata": {},
   "outputs": [
    {
     "data": {
      "text/plain": [
       "[{'type_event': 0, 'time_since_start': 0.05876903262250776},\n",
       " {'type_event': 0, 'time_since_start': 0.9581432375431},\n",
       " {'type_event': 0, 'time_since_start': 2.2933166270542062},\n",
       " {'type_event': 0, 'time_since_start': 2.4212879515880674},\n",
       " {'type_event': 0, 'time_since_start': 2.6456173572506065},\n",
       " {'type_event': 0, 'time_since_start': 2.696138895037597},\n",
       " {'type_event': 0, 'time_since_start': 4.893831879717181},\n",
       " {'type_event': 0, 'time_since_start': 4.915356397184834},\n",
       " {'type_event': 0, 'time_since_start': 5.265008176575569},\n",
       " {'type_event': 0, 'time_since_start': 5.308603359814368},\n",
       " {'type_event': 0, 'time_since_start': 5.37616322265164},\n",
       " {'type_event': 0, 'time_since_start': 5.393982052405093},\n",
       " {'type_event': 0, 'time_since_start': 5.417495775416162},\n",
       " {'type_event': 0, 'time_since_start': 5.517713399132921},\n",
       " {'type_event': 0, 'time_since_start': 5.9073632449862545},\n",
       " {'type_event': 0, 'time_since_start': 5.952140625159841},\n",
       " {'type_event': 0, 'time_since_start': 6.611934203128187},\n",
       " {'type_event': 0, 'time_since_start': 7.908214844179413},\n",
       " {'type_event': 0, 'time_since_start': 8.284504529880486},\n",
       " {'type_event': 0, 'time_since_start': 9.309093905983433},\n",
       " {'type_event': 0, 'time_since_start': 9.3644664560355},\n",
       " {'type_event': 0, 'time_since_start': 9.903795043199276},\n",
       " {'type_event': 0, 'time_since_start': 14.54972270792267},\n",
       " {'type_event': 0, 'time_since_start': 15.016609648957473},\n",
       " {'type_event': 0, 'time_since_start': 15.280273931883062},\n",
       " {'type_event': 0, 'time_since_start': 17.144657752027054},\n",
       " {'type_event': 0, 'time_since_start': 19.233335662262633},\n",
       " {'type_event': 0, 'time_since_start': 19.391657239705417},\n",
       " {'type_event': 0, 'time_since_start': 20.457976538107232},\n",
       " {'type_event': 0, 'time_since_start': 20.563496647888748},\n",
       " {'type_event': 0, 'time_since_start': 20.641486611681643},\n",
       " {'type_event': 0, 'time_since_start': 20.712813138542067},\n",
       " {'type_event': 0, 'time_since_start': 21.196476893419394},\n",
       " {'type_event': 0, 'time_since_start': 21.732632225450903},\n",
       " {'type_event': 0, 'time_since_start': 22.80992350539631},\n",
       " {'type_event': 0, 'time_since_start': 23.060410412901245},\n",
       " {'type_event': 0, 'time_since_start': 24.4329719196204},\n",
       " {'type_event': 0, 'time_since_start': 27.29163829544678},\n",
       " {'type_event': 0, 'time_since_start': 27.32704384584783},\n",
       " {'type_event': 0, 'time_since_start': 28.10224832063913},\n",
       " {'type_event': 0, 'time_since_start': 29.437852662030224},\n",
       " {'type_event': 0, 'time_since_start': 29.54026951488705},\n",
       " {'type_event': 0, 'time_since_start': 29.59927838127244},\n",
       " {'type_event': 0, 'time_since_start': 29.708869994245045},\n",
       " {'type_event': 0, 'time_since_start': 30.445395807287735},\n",
       " {'type_event': 0, 'time_since_start': 31.312015444941245},\n",
       " {'type_event': 0, 'time_since_start': 31.479177341705675},\n",
       " {'type_event': 0, 'time_since_start': 31.66087086676009},\n",
       " {'type_event': 0, 'time_since_start': 31.67662466119108},\n",
       " {'type_event': 0, 'time_since_start': 31.89139851488901},\n",
       " {'type_event': 0, 'time_since_start': 32.10342560237206},\n",
       " {'type_event': 0, 'time_since_start': 32.221310931984476},\n",
       " {'type_event': 0, 'time_since_start': 32.22194204764007},\n",
       " {'type_event': 0, 'time_since_start': 32.29331573539167},\n",
       " {'type_event': 0, 'time_since_start': 32.73957482323438},\n",
       " {'type_event': 0, 'time_since_start': 34.43828831089672},\n",
       " {'type_event': 0, 'time_since_start': 37.98738966799356},\n",
       " {'type_event': 0, 'time_since_start': 39.22745485778288},\n",
       " {'type_event': 0, 'time_since_start': 41.51494531302998},\n",
       " {'type_event': 0, 'time_since_start': 43.097246104565855},\n",
       " {'type_event': 0, 'time_since_start': 44.07951513035849},\n",
       " {'type_event': 0, 'time_since_start': 44.162447678480426},\n",
       " {'type_event': 0, 'time_since_start': 44.4687891468136},\n",
       " {'type_event': 0, 'time_since_start': 44.7931265050043},\n",
       " {'type_event': 0, 'time_since_start': 45.02255249888812},\n",
       " {'type_event': 0, 'time_since_start': 45.254532078198665},\n",
       " {'type_event': 0, 'time_since_start': 46.12603776277278},\n",
       " {'type_event': 0, 'time_since_start': 46.242348350662866},\n",
       " {'type_event': 0, 'time_since_start': 47.02776188669944},\n",
       " {'type_event': 0, 'time_since_start': 47.49101085359802},\n",
       " {'type_event': 0, 'time_since_start': 47.53678493655835},\n",
       " {'type_event': 0, 'time_since_start': 50.85964796047396},\n",
       " {'type_event': 0, 'time_since_start': 50.931282955130726},\n",
       " {'type_event': 0, 'time_since_start': 51.105698703049406},\n",
       " {'type_event': 0, 'time_since_start': 51.148698447470025},\n",
       " {'type_event': 0, 'time_since_start': 51.467992118451455},\n",
       " {'type_event': 0, 'time_since_start': 52.56227391980465},\n",
       " {'type_event': 0, 'time_since_start': 52.65907689640909},\n",
       " {'type_event': 0, 'time_since_start': 53.46057385073077},\n",
       " {'type_event': 0, 'time_since_start': 53.97480103735341},\n",
       " {'type_event': 0, 'time_since_start': 54.011310560593124},\n",
       " {'type_event': 0, 'time_since_start': 54.2927713434699},\n",
       " {'type_event': 0, 'time_since_start': 54.427920224806016},\n",
       " {'type_event': 0, 'time_since_start': 55.18736812391176},\n",
       " {'type_event': 0, 'time_since_start': 57.09780040329969},\n",
       " {'type_event': 0, 'time_since_start': 59.71938443583015},\n",
       " {'type_event': 0, 'time_since_start': 59.72694652919435},\n",
       " {'type_event': 0, 'time_since_start': 60.76978699545331},\n",
       " {'type_event': 0, 'time_since_start': 63.67799489721579},\n",
       " {'type_event': 0, 'time_since_start': 64.78412077985227},\n",
       " {'type_event': 0, 'time_since_start': 64.97738840286323},\n",
       " {'type_event': 0, 'time_since_start': 65.34930070063207},\n",
       " {'type_event': 0, 'time_since_start': 65.37553888485613},\n",
       " {'type_event': 0, 'time_since_start': 65.47784263985541},\n",
       " {'type_event': 0, 'time_since_start': 65.59849437207735},\n",
       " {'type_event': 0, 'time_since_start': 65.75447131424129},\n",
       " {'type_event': 0, 'time_since_start': 66.08880083373863},\n",
       " {'type_event': 0, 'time_since_start': 69.00160571221589},\n",
       " {'type_event': 0, 'time_since_start': 69.67844027596264},\n",
       " {'type_event': 0, 'time_since_start': 69.96675043933861},\n",
       " {'type_event': 0, 'time_since_start': 70.0630260741853},\n",
       " {'type_event': 0, 'time_since_start': 70.69431756195999},\n",
       " {'type_event': 0, 'time_since_start': 72.0543373262189},\n",
       " {'type_event': 0, 'time_since_start': 72.59157918923054},\n",
       " {'type_event': 0, 'time_since_start': 72.6821151817717},\n",
       " {'type_event': 0, 'time_since_start': 73.7906412416764},\n",
       " {'type_event': 0, 'time_since_start': 74.35897202306839},\n",
       " {'type_event': 0, 'time_since_start': 74.84311763622982},\n",
       " {'type_event': 0, 'time_since_start': 75.8237594049522},\n",
       " {'type_event': 0, 'time_since_start': 76.61017212647613},\n",
       " {'type_event': 0, 'time_since_start': 77.36650129169692},\n",
       " {'type_event': 0, 'time_since_start': 79.5395308427203},\n",
       " {'type_event': 0, 'time_since_start': 79.82191528435614},\n",
       " {'type_event': 0, 'time_since_start': 80.2915093304497},\n",
       " {'type_event': 0, 'time_since_start': 80.35299354390376},\n",
       " {'type_event': 0, 'time_since_start': 80.47906482514304},\n",
       " {'type_event': 0, 'time_since_start': 81.2145024040824},\n",
       " {'type_event': 0, 'time_since_start': 82.67563690199677},\n",
       " {'type_event': 0, 'time_since_start': 83.24501240576859},\n",
       " {'type_event': 0, 'time_since_start': 83.72427865923389},\n",
       " {'type_event': 0, 'time_since_start': 84.08289180676745},\n",
       " {'type_event': 0, 'time_since_start': 84.17485856666714},\n",
       " {'type_event': 0, 'time_since_start': 85.81276598211855},\n",
       " {'type_event': 0, 'time_since_start': 86.9557397644653},\n",
       " {'type_event': 0, 'time_since_start': 87.19751522357335},\n",
       " {'type_event': 0, 'time_since_start': 87.56592445699877},\n",
       " {'type_event': 0, 'time_since_start': 89.47961799029962},\n",
       " {'type_event': 0, 'time_since_start': 90.0050423311183},\n",
       " {'type_event': 0, 'time_since_start': 90.22370524821508},\n",
       " {'type_event': 0, 'time_since_start': 91.59716175597029},\n",
       " {'type_event': 0, 'time_since_start': 92.46645772842058},\n",
       " {'type_event': 0, 'time_since_start': 93.21898938619276},\n",
       " {'type_event': 0, 'time_since_start': 93.6880537884871},\n",
       " {'type_event': 0, 'time_since_start': 94.31834604580575},\n",
       " {'type_event': 0, 'time_since_start': 94.74099999513017},\n",
       " {'type_event': 0, 'time_since_start': 95.01017047247065},\n",
       " {'type_event': 0, 'time_since_start': 97.34948576850772},\n",
       " {'type_event': 0, 'time_since_start': 97.45040348835069},\n",
       " {'type_event': 0, 'time_since_start': 98.06947570656733},\n",
       " {'type_event': 0, 'time_since_start': 98.17629951640329},\n",
       " {'type_event': 0, 'time_since_start': 98.48419700514657},\n",
       " {'type_event': 0, 'time_since_start': 99.05321365903919},\n",
       " {'type_event': 1, 'time_since_start': 4.033592304698142},\n",
       " {'type_event': 1, 'time_since_start': 4.051587487253853},\n",
       " {'type_event': 1, 'time_since_start': 4.058561060960886},\n",
       " {'type_event': 1, 'time_since_start': 4.51100323753416},\n",
       " {'type_event': 1, 'time_since_start': 5.025669089171134},\n",
       " {'type_event': 1, 'time_since_start': 5.3409463983530365},\n",
       " {'type_event': 1, 'time_since_start': 5.34164341164004},\n",
       " {'type_event': 1, 'time_since_start': 5.354958010730677},\n",
       " {'type_event': 1, 'time_since_start': 5.360138643015797},\n",
       " {'type_event': 1, 'time_since_start': 5.536214054435677},\n",
       " {'type_event': 1, 'time_since_start': 5.78577794973009},\n",
       " {'type_event': 1, 'time_since_start': 6.075821143030857},\n",
       " {'type_event': 1, 'time_since_start': 6.856121335213551},\n",
       " {'type_event': 1, 'time_since_start': 6.875724756091097},\n",
       " {'type_event': 1, 'time_since_start': 6.917701685455923},\n",
       " {'type_event': 1, 'time_since_start': 7.082043324755392},\n",
       " {'type_event': 1, 'time_since_start': 10.878201727168506},\n",
       " {'type_event': 1, 'time_since_start': 12.40611751961367},\n",
       " {'type_event': 1, 'time_since_start': 13.130066860613697},\n",
       " {'type_event': 1, 'time_since_start': 13.635652407670124},\n",
       " {'type_event': 1, 'time_since_start': 15.252695079550573},\n",
       " {'type_event': 1, 'time_since_start': 16.848453676261688},\n",
       " {'type_event': 1, 'time_since_start': 16.928717147399027},\n",
       " {'type_event': 1, 'time_since_start': 18.85619803858642},\n",
       " {'type_event': 1, 'time_since_start': 19.29350736867262},\n",
       " {'type_event': 1, 'time_since_start': 20.594747682904508},\n",
       " {'type_event': 1, 'time_since_start': 21.964423694898972},\n",
       " {'type_event': 1, 'time_since_start': 22.122854412128238},\n",
       " {'type_event': 1, 'time_since_start': 22.131204573432974},\n",
       " {'type_event': 1, 'time_since_start': 22.267439263876785},\n",
       " {'type_event': 1, 'time_since_start': 22.97145008204145},\n",
       " {'type_event': 1, 'time_since_start': 25.860679428235624},\n",
       " {'type_event': 1, 'time_since_start': 27.0209608945052},\n",
       " {'type_event': 1, 'time_since_start': 27.07939155841029},\n",
       " {'type_event': 1, 'time_since_start': 27.30518267437312},\n",
       " {'type_event': 1, 'time_since_start': 27.343454750092363},\n",
       " {'type_event': 1, 'time_since_start': 29.609101016646473},\n",
       " {'type_event': 1, 'time_since_start': 30.554751647386496},\n",
       " {'type_event': 1, 'time_since_start': 30.57041643009797},\n",
       " {'type_event': 1, 'time_since_start': 31.321929088847885},\n",
       " {'type_event': 1, 'time_since_start': 31.406490431105357},\n",
       " {'type_event': 1, 'time_since_start': 31.450358076788866},\n",
       " {'type_event': 1, 'time_since_start': 31.745927763581104},\n",
       " {'type_event': 1, 'time_since_start': 31.761429503526337},\n",
       " {'type_event': 1, 'time_since_start': 31.777463794744833},\n",
       " {'type_event': 1, 'time_since_start': 31.87061448457034},\n",
       " {'type_event': 1, 'time_since_start': 32.25702253783149},\n",
       " {'type_event': 1, 'time_since_start': 32.546172359473665},\n",
       " {'type_event': 1, 'time_since_start': 34.43924867547118},\n",
       " {'type_event': 1, 'time_since_start': 36.18827805521737},\n",
       " {'type_event': 1, 'time_since_start': 43.305283436969674},\n",
       " {'type_event': 1, 'time_since_start': 43.48449837022841},\n",
       " {'type_event': 1, 'time_since_start': 44.081584051925155},\n",
       " {'type_event': 1, 'time_since_start': 44.59705836869027},\n",
       " {'type_event': 1, 'time_since_start': 44.92758451547964},\n",
       " {'type_event': 1, 'time_since_start': 45.037373759842794},\n",
       " {'type_event': 1, 'time_since_start': 46.345489267768386},\n",
       " {'type_event': 1, 'time_since_start': 46.83190907912128},\n",
       " {'type_event': 1, 'time_since_start': 50.61110080236576},\n",
       " {'type_event': 1, 'time_since_start': 53.332447558756556},\n",
       " {'type_event': 1, 'time_since_start': 54.44091226603601},\n",
       " {'type_event': 1, 'time_since_start': 54.451124643085606},\n",
       " {'type_event': 1, 'time_since_start': 54.88728119062841},\n",
       " {'type_event': 1, 'time_since_start': 55.31808878961185},\n",
       " {'type_event': 1, 'time_since_start': 55.430161154522374},\n",
       " {'type_event': 1, 'time_since_start': 58.248664143708375},\n",
       " {'type_event': 1, 'time_since_start': 58.5089510946784},\n",
       " {'type_event': 1, 'time_since_start': 58.77838760141148},\n",
       " {'type_event': 1, 'time_since_start': 59.54396643537795},\n",
       " {'type_event': 1, 'time_since_start': 61.31193201667623},\n",
       " {'type_event': 1, 'time_since_start': 62.077943837190084},\n",
       " {'type_event': 1, 'time_since_start': 63.40590043258818},\n",
       " {'type_event': 1, 'time_since_start': 64.62265530153049},\n",
       " {'type_event': 1, 'time_since_start': 64.79713534685357},\n",
       " {'type_event': 1, 'time_since_start': 64.90944144987975},\n",
       " {'type_event': 1, 'time_since_start': 65.09577266155188},\n",
       " {'type_event': 1, 'time_since_start': 65.28071429840047},\n",
       " {'type_event': 1, 'time_since_start': 65.54701799937686},\n",
       " {'type_event': 1, 'time_since_start': 66.85745433776215},\n",
       " {'type_event': 1, 'time_since_start': 69.21179699605592},\n",
       " {'type_event': 1, 'time_since_start': 69.93840734811833},\n",
       " {'type_event': 1, 'time_since_start': 70.02823885453557},\n",
       " {'type_event': 1, 'time_since_start': 70.29673928588312},\n",
       " {'type_event': 1, 'time_since_start': 70.70754447319797},\n",
       " {'type_event': 1, 'time_since_start': 70.9472644541337},\n",
       " {'type_event': 1, 'time_since_start': 71.30044576877133},\n",
       " {'type_event': 1, 'time_since_start': 73.17597316026588},\n",
       " {'type_event': 1, 'time_since_start': 74.33120966234522},\n",
       " {'type_event': 1, 'time_since_start': 74.7153832024736},\n",
       " {'type_event': 1, 'time_since_start': 75.22976412167921},\n",
       " {'type_event': 1, 'time_since_start': 76.62347040942382},\n",
       " {'type_event': 1, 'time_since_start': 77.60426489796016},\n",
       " {'type_event': 1, 'time_since_start': 80.29409744224613},\n",
       " {'type_event': 1, 'time_since_start': 82.24451444609561},\n",
       " {'type_event': 1, 'time_since_start': 82.24788617301948},\n",
       " {'type_event': 1, 'time_since_start': 82.35028983028901},\n",
       " {'type_event': 1, 'time_since_start': 82.36627779220416},\n",
       " {'type_event': 1, 'time_since_start': 82.45393590409168},\n",
       " {'type_event': 1, 'time_since_start': 82.5169788573525},\n",
       " {'type_event': 1, 'time_since_start': 83.04239728124956},\n",
       " {'type_event': 1, 'time_since_start': 83.1232187164674},\n",
       " {'type_event': 1, 'time_since_start': 83.41118097144037},\n",
       " {'type_event': 1, 'time_since_start': 83.85679602141323},\n",
       " {'type_event': 1, 'time_since_start': 85.3440472661584},\n",
       " {'type_event': 1, 'time_since_start': 86.48108932030483},\n",
       " {'type_event': 1, 'time_since_start': 86.72640607332804},\n",
       " {'type_event': 1, 'time_since_start': 86.79643258046538},\n",
       " {'type_event': 1, 'time_since_start': 86.80493446254937},\n",
       " {'type_event': 1, 'time_since_start': 86.83990012810571},\n",
       " {'type_event': 1, 'time_since_start': 87.31615316804432},\n",
       " {'type_event': 1, 'time_since_start': 90.30878370868756},\n",
       " {'type_event': 1, 'time_since_start': 91.02443893045},\n",
       " {'type_event': 1, 'time_since_start': 91.4116220800246},\n",
       " {'type_event': 1, 'time_since_start': 92.64958865346208},\n",
       " {'type_event': 1, 'time_since_start': 93.8203231530411},\n",
       " {'type_event': 1, 'time_since_start': 94.07197768500473},\n",
       " {'type_event': 1, 'time_since_start': 95.11098933172454},\n",
       " {'type_event': 1, 'time_since_start': 96.71439499990214}]"
      ]
     },
     "execution_count": 38,
     "metadata": {},
     "output_type": "execute_result"
    }
   ],
   "source": []
  },
  {
   "cell_type": "code",
   "execution_count": 8,
   "metadata": {},
   "outputs": [
    {
     "data": {
      "text/plain": [
       "[array([ 0.51029211,  1.08713802,  1.13825519,  2.78828547,  3.08246593,\n",
       "         3.30853195,  3.65836057,  3.98544392,  4.51922725,  7.15732974,\n",
       "         9.76996507, 10.76532439, 11.6751414 , 15.23574194, 15.75646368,\n",
       "        20.77822081, 20.80608867, 21.05887577, 21.22894456, 28.53531022,\n",
       "        28.80665367, 33.78632537, 34.18175066, 34.26602709, 34.67314923,\n",
       "        34.75257463, 36.37823184, 38.84307313, 38.93055523, 40.49480541,\n",
       "        42.18611311, 42.2248858 , 42.6834143 , 45.11283997, 45.66810064,\n",
       "        45.77203212, 47.32039643, 50.06594178, 52.32173864, 52.66165895,\n",
       "        53.04182305, 55.61313016, 55.80440089, 55.81967842, 59.30158286,\n",
       "        60.09845591, 60.3087108 , 60.71004522, 60.78437019, 60.84096062,\n",
       "        60.87228564, 60.94247433, 61.31115119, 61.33937876, 61.92139544,\n",
       "        64.91899202, 65.42456248, 65.54453527, 66.09008311, 66.23373718,\n",
       "        66.36233848, 66.99382301, 68.00861647, 69.99250112, 72.65732983,\n",
       "        72.95412835, 74.23617614, 75.40173546, 75.58524838, 76.81161053,\n",
       "        77.20055144, 77.40835142, 79.49631034, 81.04575485, 83.43534192,\n",
       "        86.68784908, 86.82347236, 87.38535596, 87.97358889, 88.74697121,\n",
       "        89.99871337, 93.15363193, 94.12539413, 96.62933217, 96.8971313 ,\n",
       "        97.00707726, 97.04671921, 97.38238285, 99.4058992 ]),\n",
       " array([ 0.68464412,  1.50778065,  2.20946309,  3.45244393,  3.56620825,\n",
       "         4.23695449,  4.85745645,  6.04093585,  6.08041966, 10.97754777,\n",
       "        11.79367986, 12.63513912, 13.91288976, 16.18969079, 17.6027224 ,\n",
       "        18.22695129, 19.35900388, 26.85552941, 27.82497607, 28.05890257,\n",
       "        28.09363481, 28.41776936, 29.69229948, 30.20700516, 37.70866273,\n",
       "        37.8118955 , 37.87825681, 38.00621556, 38.1138145 , 39.12182697,\n",
       "        40.27044613, 40.66395717, 42.88491374, 44.36825689, 44.50192547,\n",
       "        44.90037808, 44.99134833, 47.26441871, 47.34724335, 47.47924994,\n",
       "        48.26430384, 48.447879  , 49.33045597, 50.60678252, 50.88090512,\n",
       "        50.91880467, 52.42698646, 52.52022592, 53.20915685, 53.30613845,\n",
       "        56.71746373, 59.27324459, 60.55654023, 62.93790877, 65.1839554 ,\n",
       "        65.35471682, 69.25670749, 69.26625479, 69.54561682, 71.36436908,\n",
       "        71.77426991, 74.32887361, 74.97508253, 75.11620355, 75.4791779 ,\n",
       "        75.74227739, 77.48455122, 77.88062662, 86.99708142, 89.790613  ,\n",
       "        90.74908513, 91.7477112 , 94.22204741, 97.14849127, 98.44051871])]"
      ]
     },
     "execution_count": 8,
     "metadata": {},
     "output_type": "execute_result"
    }
   ],
   "source": []
  },
  {
   "cell_type": "code",
   "execution_count": 11,
   "metadata": {},
   "outputs": [
    {
     "data": {
      "text/plain": [
       "(10164,)"
      ]
     },
     "execution_count": 11,
     "metadata": {},
     "output_type": "execute_result"
    }
   ],
   "source": [
    "hawkes."
   ]
  },
  {
   "cell_type": "code",
   "execution_count": null,
   "metadata": {},
   "outputs": [],
   "source": []
  },
  {
   "cell_type": "code",
   "execution_count": null,
   "metadata": {},
   "outputs": [],
   "source": []
  },
  {
   "cell_type": "code",
   "execution_count": null,
   "metadata": {},
   "outputs": [],
   "source": []
  },
  {
   "cell_type": "code",
   "execution_count": 218,
   "metadata": {},
   "outputs": [
    {
     "data": {
      "text/plain": [
       "[array([ 1.60587112,  1.71987793,  1.79944136,  1.90689703,  1.98117648,\n",
       "         2.07339472,  2.44615675,  3.49935109,  4.93684915,  5.18120843,\n",
       "         7.44047277,  7.45384409,  7.56132439,  7.62317696, 10.22056671,\n",
       "        10.32461736, 10.35714381, 10.42717845, 11.75145983, 13.51922485,\n",
       "        13.54335315, 13.95261807, 14.38581289, 14.54160569, 15.17465103,\n",
       "        15.23507361, 15.33654771, 15.35290586, 15.58206707, 15.62020612,\n",
       "        15.93080842, 16.04070115, 16.17246717, 16.44326127, 16.51500078,\n",
       "        16.59534716, 16.99435081, 17.036775  , 17.04032805, 17.78752037,\n",
       "        18.11141526, 18.24289401, 18.26459087, 18.28071641, 18.28945966,\n",
       "        18.41342243, 18.41950108, 18.55084959, 19.06236625, 19.19730184,\n",
       "        19.22900498, 19.36592624, 19.39555881, 19.42261663, 19.55462345,\n",
       "        19.73737989, 20.20839717, 21.08915043, 22.02579636, 22.08147927,\n",
       "        22.37776569, 22.46570223, 23.5637442 , 26.53240554, 26.85393362,\n",
       "        27.06497797, 27.61867865, 28.4103586 , 28.73719326, 29.6210057 ,\n",
       "        29.67654529, 29.78405825, 30.62495593, 30.72760799, 32.09395769,\n",
       "        32.32054269, 32.78291203, 33.26299129, 33.89276764, 34.03881522,\n",
       "        34.39002951, 35.86283637, 36.73145175, 38.81765878, 38.85799383,\n",
       "        40.65124289, 42.2044153 , 42.27009772, 42.36582745, 42.54834523,\n",
       "        43.45630325, 43.94605765, 44.25440076, 47.54360944, 47.74159465,\n",
       "        48.6168825 , 49.78775148, 49.9998522 , 50.20183091, 50.38865501,\n",
       "        51.61175247, 51.74855928, 51.77014461, 51.93097118, 52.08287572,\n",
       "        52.24424117, 52.63107706, 53.54982088, 53.65270458, 61.80792132,\n",
       "        61.9564916 , 62.10507026, 62.56300367, 63.64026945, 63.75033676,\n",
       "        64.25947565, 64.83812176, 64.99754361, 65.77520176, 65.88081041,\n",
       "        66.12699712, 66.34327488, 66.40255751, 66.48004233, 66.48687275,\n",
       "        66.58830163, 68.6784483 , 69.43795235, 69.46620643, 69.5889122 ,\n",
       "        69.99387332, 70.15040301, 71.98747001, 72.68421968, 72.78502687,\n",
       "        73.16175795, 73.60518441, 74.87859211, 75.66457975, 78.07284465,\n",
       "        79.04366068, 82.00579462, 82.05871283, 82.75970402, 83.28653653,\n",
       "        83.97190296, 84.88620263, 85.70553375, 85.7447559 , 86.17703939,\n",
       "        88.64695674, 88.98969423, 88.99986046, 89.28538712, 89.29557048,\n",
       "        89.32551921, 89.38723812, 89.59409393, 93.93228316]),\n",
       " array([ 0.34019474,  0.45642941,  0.71577566,  0.74681885,  0.97258772,\n",
       "         3.16613552, 11.49599722, 11.53132762, 11.71567807, 12.41403484,\n",
       "        13.18818259, 14.37233362, 16.11957853, 16.64340545, 18.03486847,\n",
       "        18.30897709, 19.98853885, 20.9599498 , 21.55124415, 22.5138048 ,\n",
       "        22.63670947, 23.02041671, 24.55106181, 26.59811029, 27.24990754,\n",
       "        30.25597856, 30.54506955, 34.26127738, 34.94461911, 37.37885921,\n",
       "        37.42466819, 37.73305418, 38.65835852, 38.81754251, 39.21089548,\n",
       "        39.22808752, 40.07673947, 44.31856942, 44.9312816 , 45.55564465,\n",
       "        47.92009558, 50.01650219, 52.36656908, 52.53113671, 54.24459597,\n",
       "        55.20705514, 58.80827369, 62.47827303, 62.75258691, 66.96305178,\n",
       "        67.1762861 , 69.6395434 , 72.3837008 , 78.52380864, 79.46480411,\n",
       "        80.35359445, 82.82996926, 84.18291364, 84.43383893, 85.50902186,\n",
       "        88.58738913, 90.26749461, 90.40909698, 91.03886595, 91.51551452,\n",
       "        92.11797378, 92.38202548, 92.85414823, 94.1699347 , 94.42575989,\n",
       "        96.77099237, 96.85001742, 96.98961005, 99.88400639]),\n",
       " array([ 1.35389824,  1.84589701,  1.88040058,  1.92264792,  2.02579758,\n",
       "         2.02874064,  2.12402542,  2.26465442,  2.27020889,  2.88384498,\n",
       "         3.24898481,  3.53895046,  3.7944118 ,  5.35824084,  5.84511681,\n",
       "         6.09105926,  7.69343642, 10.06690948, 10.1296438 , 10.20929177,\n",
       "        10.51512057, 10.59274471, 10.68172779, 11.35100935, 13.11334885,\n",
       "        13.16109703, 13.24393417, 13.28494444, 13.59649655, 13.894125  ,\n",
       "        13.99713179, 14.60188146, 15.00665841, 15.04953327, 15.20065066,\n",
       "        15.24419437, 15.29580276, 15.58824198, 15.69327464, 15.75955115,\n",
       "        15.78750349, 16.02395152, 16.1658083 , 16.46405528, 16.48399494,\n",
       "        16.62575691, 17.23203915, 17.77763577, 18.19537434, 18.72938072,\n",
       "        19.13292437, 19.17889016, 20.07626819, 20.09049417, 20.66025392,\n",
       "        21.59754291, 21.87514271, 21.92734021, 22.04964852, 22.12604483,\n",
       "        22.53351237, 26.68757133, 27.09970579, 27.55139914, 27.66248259,\n",
       "        27.7954682 , 28.02882728, 28.77201827, 29.50813146, 29.66262151,\n",
       "        29.71100792, 30.02942605, 30.74107097, 30.78743835, 30.82370685,\n",
       "        31.24845113, 32.15899067, 32.20383687, 32.38860924, 32.3970714 ,\n",
       "        32.63883309, 32.65265522, 33.29995854, 33.55749056, 34.16255136,\n",
       "        37.23966555, 40.03833679, 42.39556158, 43.39382027, 43.58230481,\n",
       "        43.85046878, 44.09436398, 46.97260787, 47.76329918, 50.68470755,\n",
       "        50.76858206, 51.42761709, 51.73128354, 51.73465595, 51.85301445,\n",
       "        51.91553681, 51.92566651, 52.14977841, 52.51753517, 52.87354081,\n",
       "        53.49248118, 54.10896716, 54.66614437, 57.51032929, 58.85247982,\n",
       "        59.75748804, 60.967709  , 62.50086702, 62.51290026, 63.13153739,\n",
       "        63.42868041, 64.50540356, 64.549253  , 65.04752898, 65.83493661,\n",
       "        66.07190624, 66.15178244, 66.44918595, 69.0860815 , 70.0622017 ,\n",
       "        71.88355679, 73.40840328, 73.82429297, 75.13448028, 75.25575511,\n",
       "        77.91049262, 78.36624687, 79.71995946, 79.74249812, 79.86411586,\n",
       "        80.32483333, 83.67040883, 86.7433562 , 87.62618852, 88.94733381,\n",
       "        89.34148356, 89.53070245, 89.63434793, 89.82000884, 90.87078802,\n",
       "        90.92883355, 92.20407813])]"
      ]
     },
     "execution_count": 218,
     "metadata": {},
     "output_type": "execute_result"
    }
   ],
   "source": [
    "hawkes.timestamps"
   ]
  },
  {
   "cell_type": "code",
   "execution_count": 14,
   "metadata": {},
   "outputs": [
    {
     "data": {
      "image/png": "[encoded data removed]",
      "text/plain": [
       "<Figure size 4000x1000 with 1 Axes>"
      ]
     },
     "metadata": {
      "needs_background": "light"
     },
     "output_type": "display_data"
    }
   ],
   "source": [
    "plt.figure(figsize = (20, 5), dpi = 200)\n",
    "plt.grid(color='gray', linestyle='-', linewidth=0.2)\n",
    "for i in range(2):\n",
    "    times = hawkes.timestamps[i]\n",
    "    events = [i]*len(times)\n",
    "    plt.scatter(times,\n",
    "                events,\n",
    "                label = f'event_{i}')\n",
    "\n",
    "    plt.vlines(times, [0]*len(events), events, linestyle='--', linewidth=0.5)\n",
    "\n",
    "plt.legend(loc = 'upper right')\n",
    "plt.xlabel('Time since start')\n",
    "plt.ylabel('Event type')\n",
    "plt.show()"
   ]
  },
  {
   "cell_type": "code",
   "execution_count": null,
   "metadata": {},
   "outputs": [],
   "source": []
  },
  {
   "cell_type": "code",
   "execution_count": null,
   "metadata": {},
   "outputs": [],
   "source": []
  },
  {
   "cell_type": "code",
   "execution_count": 17,
   "metadata": {},
   "outputs": [],
   "source": [
    "A = np.random.random((7, 7))\n",
    "A[A<=0.5] = 0.2\n",
    "A[A>0.5] = 0"
   ]
  },
  {
   "cell_type": "code",
   "execution_count": null,
   "metadata": {},
   "outputs": [],
   "source": []
  },
  {
   "cell_type": "code",
   "execution_count": null,
   "metadata": {},
   "outputs": [],
   "source": []
  },
  {
   "cell_type": "code",
   "execution_count": 18,
   "metadata": {},
   "outputs": [
    {
     "data": {
      "text/plain": [
       "array([[0. , 0.2, 0.2, 0. , 0. , 0.2, 0.2],\n",
       "       [0.2, 0.2, 0. , 0.2, 0. , 0. , 0. ],\n",
       "       [0.2, 0. , 0.2, 0.2, 0.2, 0. , 0. ],\n",
       "       [0.2, 0. , 0. , 0. , 0. , 0. , 0. ],\n",
       "       [0. , 0.2, 0. , 0. , 0.2, 0.2, 0.2],\n",
       "       [0.2, 0.2, 0. , 0.2, 0.2, 0. , 0.2],\n",
       "       [0. , 0.2, 0. , 0. , 0.2, 0. , 0. ]])"
      ]
     },
     "execution_count": 18,
     "metadata": {},
     "output_type": "execute_result"
    }
   ],
   "source": [
    "A"
   ]
  },
  {
   "cell_type": "code",
   "execution_count": 19,
   "metadata": {},
   "outputs": [],
   "source": [
    "import seaborn as sns"
   ]
  },
  {
   "cell_type": "code",
   "execution_count": null,
   "metadata": {},
   "outputs": [],
   "source": []
  },
  {
   "cell_type": "code",
   "execution_count": 20,
   "metadata": {},
   "outputs": [
    {
     "data": {
      "text/plain": [
       "<AxesSubplot:>"
      ]
     },
     "execution_count": 20,
     "metadata": {},
     "output_type": "execute_result"
    },
    {
     "data": {
      "image/png": "[encoded data removed]",
      "text/plain": [
       "<Figure size 432x288 with 2 Axes>"
      ]
     },
     "metadata": {
      "needs_background": "light"
     },
     "output_type": "display_data"
    }
   ],
   "source": [
    "sns.heatmap(A)"
   ]
  },
  {
   "cell_type": "code",
   "execution_count": null,
   "metadata": {},
   "outputs": [],
   "source": []
  },
  {
   "cell_type": "code",
   "execution_count": 21,
   "metadata": {},
   "outputs": [],
   "source": [
    "ts = []\n",
    "for i in range(100):\n",
    "    n_nodes = len(A)\n",
    "    decays = 3 * np.ones((n_nodes, n_nodes))\n",
    "    baseline = 0.5 * np.ones(n_nodes)\n",
    "    hawkes = SimuHawkesExpKernels(adjacency=A, decays=decays,\n",
    "                                  baseline=baseline, verbose=False)\n",
    "\n",
    "    run_time = 100\n",
    "    hawkes.end_time = run_time\n",
    "    dt = 0.01\n",
    "    hawkes.track_intensity(dt)\n",
    "    hawkes.simulate()\n",
    "    ts.append(hawkes.timestamps)\n"
   ]
  },
  {
   "cell_type": "code",
   "execution_count": 24,
   "metadata": {},
   "outputs": [
    {
     "data": {
      "text/plain": [
       "[array([ 0.39327721,  0.42024959,  0.70829937,  1.02853541,  2.99289119,\n",
       "         2.99852074,  3.25888698,  3.29672991,  3.38598228,  3.6447237 ,\n",
       "         4.07698341,  4.16510926,  4.27985896,  4.5099589 ,  5.04251966,\n",
       "         5.05942152,  5.23612732,  5.2748053 ,  5.84572745,  5.99521042,\n",
       "         6.01125199,  6.1523711 ,  6.32431201,  6.88830511,  7.13777304,\n",
       "         7.77330921,  7.94363212,  8.0056162 ,  8.21513366,  8.24508023,\n",
       "         8.42398923,  8.81214726,  8.96640482,  9.03043738,  9.29983848,\n",
       "         9.50873752,  9.98622459, 10.12518156, 10.41491701, 10.45844729,\n",
       "        11.45532328, 11.64602173, 11.82923169, 12.3871284 , 12.59413934,\n",
       "        13.28941392, 13.335435  , 13.46658618, 13.69026066, 14.2601009 ,\n",
       "        14.58066272, 15.81433417, 15.84190241, 16.75755603, 16.90247638,\n",
       "        16.91957877, 16.97903689, 17.39859879, 17.6311242 , 18.17748174,\n",
       "        18.25439232, 18.67591996, 18.77348162, 18.92825468, 19.18772272,\n",
       "        19.19090383, 19.3628051 , 19.43888767, 19.86706624, 20.00375727,\n",
       "        20.82904299, 24.38816115, 25.26636471, 25.27459194, 25.43339249,\n",
       "        26.58288539, 26.73082408, 27.78136282, 28.03175869, 29.36897673,\n",
       "        29.38947453, 29.61129311, 30.80812126, 30.87362894, 31.23013327,\n",
       "        32.0993582 , 32.6591997 , 33.96738115, 34.29701655, 35.30926478,\n",
       "        35.72206413, 36.32561882, 36.50229012, 36.52404968, 38.1824992 ,\n",
       "        38.84082531, 38.87724614, 40.05561827, 40.41211342, 40.60859988,\n",
       "        41.10232496, 41.19134705, 41.31498996, 42.32759995, 42.92654129,\n",
       "        43.08871601, 43.93513312, 44.16111974, 45.02944597, 45.18707273,\n",
       "        46.30397382, 46.37098267, 52.01715733, 52.02364139, 53.15678194,\n",
       "        53.2725802 , 54.95749513, 57.01259527, 58.271874  , 60.43583637,\n",
       "        60.76065038, 61.91428748, 63.38930805, 64.16375788, 64.1928536 ,\n",
       "        65.7337702 , 66.00036214, 66.46354903, 67.61881188, 69.08909734,\n",
       "        69.38924582, 71.02522267, 71.31393934, 71.55322482, 71.77099919,\n",
       "        71.89657444, 72.72809652, 73.40628564, 75.6290882 , 75.72713201,\n",
       "        79.48209775, 80.35617271, 80.69412167, 81.06013063, 81.2544104 ,\n",
       "        81.91979002, 82.19071726, 82.59927005, 83.54443046, 83.56446807,\n",
       "        83.81175837, 83.97716539, 84.04660599, 84.9528918 , 84.96722922,\n",
       "        85.14224878, 85.54722561, 85.88037973, 86.06451534, 86.29474183,\n",
       "        86.879507  , 87.13813962, 88.54991904, 88.75053686, 89.22158758,\n",
       "        89.40286397, 89.51106331, 89.63879948, 89.65770147, 90.20799325,\n",
       "        90.34519872, 90.44209646, 90.63160259, 90.88967264, 93.36054439,\n",
       "        93.51899017, 94.4181278 , 94.82479472, 95.40486015, 97.19922225,\n",
       "        97.30628721, 97.97598786, 98.43337217, 98.80508585]),\n",
       " array([ 0.11104448,  0.23557138,  0.70225484,  2.45645821,  2.70342293,\n",
       "         3.17754203,  3.7329617 ,  4.0592615 ,  4.06861688,  4.13389259,\n",
       "         4.28859269,  4.62956064,  5.91697738,  6.1119129 ,  7.35720772,\n",
       "         7.69499383,  8.30876154,  8.64373243,  8.66454472,  8.75332586,\n",
       "         9.02346245,  9.2158334 ,  9.97195281, 11.09891163, 11.24280644,\n",
       "        11.35039652, 12.2795343 , 12.99457949, 13.49002667, 13.62266665,\n",
       "        14.93681967, 15.12681013, 15.29752636, 15.54914808, 15.76912588,\n",
       "        16.77769772, 17.5611526 , 17.94645765, 19.04592434, 19.53992818,\n",
       "        19.74896196, 19.82421019, 19.82574644, 19.98625694, 20.37303093,\n",
       "        22.08228001, 23.29949689, 24.02460403, 24.5973574 , 24.73719831,\n",
       "        25.7118637 , 27.35447624, 28.71867821, 28.72996312, 29.55603544,\n",
       "        30.38924335, 30.84456973, 31.68280828, 31.87687849, 32.42022194,\n",
       "        35.58095408, 35.77068585, 36.13872809, 36.46691282, 38.02798497,\n",
       "        38.18447003, 39.06103088, 39.31101361, 40.45707906, 40.86011039,\n",
       "        41.8255669 , 41.82884319, 41.88249081, 43.34647019, 45.12916648,\n",
       "        45.36922749, 45.51065845, 46.73785628, 47.03337343, 49.1408454 ,\n",
       "        51.82932786, 52.7959634 , 53.25015362, 53.4427909 , 57.36853379,\n",
       "        58.21051866, 58.66695388, 59.47913155, 59.57235121, 59.91266658,\n",
       "        60.50624859, 61.71159448, 62.40615652, 62.80497565, 63.050883  ,\n",
       "        64.17946781, 64.29978229, 64.4973734 , 65.90280988, 65.95450065,\n",
       "        67.48264308, 68.68707349, 68.93578574, 68.954626  , 70.59769618,\n",
       "        70.78140362, 71.73123691, 74.33346068, 74.3774943 , 74.60418233,\n",
       "        74.70623197, 75.45383439, 80.29309389, 80.54367463, 81.12392279,\n",
       "        81.29357299, 81.43530792, 81.49396631, 81.61678274, 83.04877772,\n",
       "        83.06162985, 83.0907242 , 83.19872033, 83.20448417, 83.48398211,\n",
       "        83.56305355, 83.97239688, 84.50462946, 84.71700258, 85.34806275,\n",
       "        85.40919936, 87.16528243, 87.66325416, 87.77485003, 87.80990675,\n",
       "        87.9825297 , 89.17833328, 89.80916038, 90.23492696, 90.59286581,\n",
       "        90.89983487, 90.9520374 , 91.06064428, 96.66870849, 96.72190146,\n",
       "        97.56265728, 99.37787235]),\n",
       " array([ 0.59836306,  0.65734211,  1.57061465,  1.62040237,  1.96652431,\n",
       "         1.99525031,  3.45058074,  4.09880983,  4.55768499,  4.8124861 ,\n",
       "         4.85343417,  5.25279773,  5.50692212,  5.57490016,  5.72460145,\n",
       "         6.00613671,  6.12016296,  6.3786232 ,  7.81371589,  8.21834486,\n",
       "         8.45366388,  8.50541618,  8.50857133,  9.14025959,  9.73898551,\n",
       "         9.77099578, 10.18072831, 11.14236962, 11.6475646 , 11.84997251,\n",
       "        12.390109  , 13.08848775, 14.96055348, 15.1085036 , 15.66936749,\n",
       "        15.94253613, 15.94431006, 16.01861346, 16.52780165, 16.90917348,\n",
       "        17.79971018, 18.06266095, 18.24288895, 18.57138543, 18.67008682,\n",
       "        18.7734301 , 19.08258425, 19.29101638, 19.81800442, 20.02614901,\n",
       "        20.1399382 , 21.7457134 , 23.07402037, 23.15264199, 24.59936998,\n",
       "        25.09873587, 25.1832225 , 25.3198151 , 25.45111165, 25.65288284,\n",
       "        25.90267316, 25.94350804, 26.13342711, 26.33562005, 27.0498846 ,\n",
       "        29.55396793, 29.59726379, 29.67715031, 29.70263664, 31.13213378,\n",
       "        31.87595368, 32.00930129, 32.62428416, 32.87007938, 33.18665164,\n",
       "        34.64987481, 35.05846466, 35.47278364, 36.42058404, 36.57201445,\n",
       "        36.60647262, 37.2645862 , 38.90988362, 39.63330062, 40.22466538,\n",
       "        41.99441078, 43.94314108, 44.23641855, 45.18357543, 45.37900071,\n",
       "        45.91946774, 46.13127729, 51.1006347 , 51.32083437, 51.41690387,\n",
       "        51.5037329 , 51.66907728, 51.76497794, 52.66656276, 52.746119  ,\n",
       "        53.58391513, 57.10217242, 58.07217643, 58.1244165 , 58.80934636,\n",
       "        59.12003365, 59.32657456, 59.8147062 , 59.86206238, 60.93602308,\n",
       "        65.62821067, 67.16911319, 67.25159746, 67.29377697, 68.38383109,\n",
       "        68.45797386, 68.82293178, 68.95358046, 69.57361707, 69.76419567,\n",
       "        70.27373244, 70.91685842, 72.17140504, 72.72907343, 74.31118368,\n",
       "        75.27114899, 77.93835246, 79.53062016, 80.47575282, 80.53773975,\n",
       "        80.68987182, 80.8175888 , 81.13461041, 81.22297069, 81.24797861,\n",
       "        81.25868419, 81.26602636, 82.03133266, 84.1963236 , 84.69378186,\n",
       "        84.82135335, 85.04893894, 85.96941475, 86.1657335 , 86.22630497,\n",
       "        86.50203702, 88.02156813, 89.21123536, 89.23592897, 89.98220094,\n",
       "        90.0252303 , 90.0337774 , 90.95161323, 93.23072696, 93.54186265,\n",
       "        95.30501342, 95.38404004, 95.83567021, 97.57177838, 97.75639346,\n",
       "        97.95178735, 98.80974278, 99.18193205]),\n",
       " array([ 0.78867771,  1.87208138,  3.43800061,  4.01515723,  4.59489043,\n",
       "         6.17124018,  6.62319667,  7.0267194 ,  8.2768249 ,  8.46859536,\n",
       "         8.61735112,  8.86035228,  9.72757141, 12.49299196, 13.30149887,\n",
       "        13.91256536, 14.79450768, 14.95286038, 15.16481942, 15.59187881,\n",
       "        17.25031115, 18.93085433, 19.43288004, 19.54893656, 21.75545977,\n",
       "        23.60510885, 24.63749131, 25.82344302, 26.07498892, 28.41981082,\n",
       "        31.24905537, 32.31950322, 34.41191111, 34.51095558, 34.78729994,\n",
       "        35.34526936, 38.89157799, 38.96097295, 41.58535497, 42.26551758,\n",
       "        42.33431954, 44.211149  , 44.34137529, 44.66060076, 44.97714274,\n",
       "        45.40207295, 46.49922606, 46.7446063 , 47.45320448, 51.33359715,\n",
       "        54.38445439, 54.8794967 , 56.66004016, 58.02457344, 59.06143731,\n",
       "        59.40578076, 65.67154358, 66.88020139, 67.72303967, 68.67846361,\n",
       "        69.36874607, 69.74196947, 70.48589505, 71.57842308, 71.57859882,\n",
       "        71.6957076 , 73.86552435, 74.11137502, 75.30914044, 76.95544468,\n",
       "        80.20572625, 81.95917629, 83.03337964, 83.6819359 , 83.78442747,\n",
       "        84.28873508, 84.62840956, 85.07647908, 86.72485195, 89.11963792,\n",
       "        89.12248045, 89.71022644, 90.24844368, 91.0542203 , 94.70725901,\n",
       "        95.32860491, 95.71261494, 97.0142717 , 97.51263338, 97.70122711,\n",
       "        98.51818596]),\n",
       " array([ 1.04680666,  3.68239411,  4.26909996,  4.49523133,  4.58932961,\n",
       "         4.71319179,  5.73005331,  5.83933158,  6.5839714 ,  6.77731196,\n",
       "         7.35575447,  7.49366953,  7.83934872,  7.92752892,  7.93583271,\n",
       "         8.15814575,  8.8591878 ,  9.60264455,  9.60706365, 10.63651362,\n",
       "        11.34557208, 12.01011243, 13.55843705, 13.5923973 , 15.45352783,\n",
       "        16.07035749, 16.59216662, 16.85289358, 17.07357647, 17.10659393,\n",
       "        17.89422654, 18.12118442, 18.19543736, 18.33277253, 18.43272762,\n",
       "        18.97541452, 19.27459134, 19.50443891, 19.5611579 , 19.8006041 ,\n",
       "        19.85762177, 19.91945547, 20.20370431, 20.2195545 , 20.38790657,\n",
       "        20.4682954 , 20.4764327 , 20.58820164, 21.7105861 , 22.23337694,\n",
       "        22.68956989, 24.05433479, 24.44282566, 24.97989497, 25.63383875,\n",
       "        25.76529868, 26.68808735, 26.91344204, 26.95013905, 28.31992585,\n",
       "        28.35195824, 28.74751194, 28.9176153 , 28.94121039, 29.14979015,\n",
       "        30.3283847 , 30.689694  , 30.77648587, 31.4532506 , 31.47649194,\n",
       "        31.52730742, 31.78680477, 32.6458217 , 34.06271645, 34.22326775,\n",
       "        34.70329408, 36.06194952, 37.77727019, 38.14409955, 38.61767658,\n",
       "        39.56008704, 41.60533375, 41.63590649, 44.08714002, 44.10817489,\n",
       "        44.12331456, 44.21943803, 44.72155863, 45.06253002, 45.57448252,\n",
       "        45.71086727, 46.77787201, 47.11363026, 47.20787928, 47.39396463,\n",
       "        49.71833544, 50.57335094, 50.75254729, 50.92813417, 51.37708724,\n",
       "        51.49121858, 51.87875536, 53.49512143, 55.13830001, 55.28291776,\n",
       "        55.28684793, 57.81516514, 59.97517662, 60.05680652, 60.10768821,\n",
       "        60.13216901, 60.24221483, 60.58756912, 60.80914745, 60.81267628,\n",
       "        60.81676474, 61.10106859, 61.40510683, 64.1864432 , 66.08159598,\n",
       "        66.12035983, 66.51271936, 66.8555639 , 66.98464043, 67.34323918,\n",
       "        68.08152567, 68.70566313, 69.72495288, 69.9569488 , 71.04165342,\n",
       "        71.41347908, 71.90988105, 72.58888989, 72.9010254 , 73.59844293,\n",
       "        75.06677978, 75.15022273, 75.37677582, 75.87447174, 75.95008385,\n",
       "        76.21248699, 77.58718832, 80.28256633, 81.5510593 , 82.25397105,\n",
       "        82.68208644, 82.80879584, 82.83356445, 83.37909591, 83.48758568,\n",
       "        83.58973796, 84.37403141, 84.56406124, 84.59665962, 84.63739162,\n",
       "        84.84702354, 84.9212906 , 84.97176269, 85.01117558, 85.1597187 ,\n",
       "        85.22459256, 85.26312809, 85.75178762, 85.82317949, 86.12456719,\n",
       "        87.59482595, 89.04702148, 89.07344494, 89.54682777, 89.55999312,\n",
       "        89.86195953, 89.87064529, 89.98347584, 90.23045216, 90.23390609,\n",
       "        90.28948534, 90.64022725, 90.88128644, 91.20185659, 91.27090843,\n",
       "        91.35478403, 91.3848811 , 91.95330563, 92.47936028, 93.66719985,\n",
       "        94.03265953, 94.50817874, 94.84089269, 95.27137657, 95.68356035,\n",
       "        95.69214021, 95.75919217, 97.06532362, 97.14952866, 97.21132265,\n",
       "        97.69483796]),\n",
       " array([ 0.29372561,  0.99191229,  1.32895158,  2.25667475,  2.93201383,\n",
       "         2.96662672,  2.98404147,  3.34336958,  4.26497631,  4.4787606 ,\n",
       "         4.5411967 ,  4.70375814,  5.07450077,  5.80492643,  6.01039513,\n",
       "         6.06117243,  7.4005529 ,  7.52724808,  7.74392357,  8.04595956,\n",
       "         8.0986408 ,  8.17352708,  8.84804798,  8.94530627, 12.55765039,\n",
       "        12.83325251, 13.10864076, 13.42326418, 14.05719265, 14.15038307,\n",
       "        14.16135775, 16.24579026, 16.79386059, 17.62749465, 17.72884258,\n",
       "        18.22899784, 18.79160955, 18.87490189, 18.90378831, 19.06755295,\n",
       "        19.06820229, 19.20336447, 19.67780414, 19.8024859 , 19.89225213,\n",
       "        19.94250248, 20.58211971, 20.76455872, 22.18622175, 23.40995692,\n",
       "        23.71279471, 24.21756026, 24.66366804, 24.68900013, 24.78723955,\n",
       "        25.17583881, 26.45647648, 28.56542636, 28.61605856, 28.97380725,\n",
       "        29.68320514, 29.79475548, 30.78447329, 31.0578628 , 31.11588815,\n",
       "        31.26044659, 31.50269775, 32.11344019, 32.1455328 , 34.12914418,\n",
       "        34.59120282, 35.0580906 , 35.65464183, 35.7797858 , 35.88009465,\n",
       "        36.5110499 , 37.09423342, 37.60126103, 37.73123984, 38.39699508,\n",
       "        39.06914813, 39.43693434, 39.59008018, 40.98736476, 41.33540472,\n",
       "        41.84391715, 41.94545448, 42.11988624, 42.60906894, 43.46147147,\n",
       "        44.1224912 , 44.35563857, 44.45683139, 44.52183733, 44.59696172,\n",
       "        45.1937368 , 45.33104933, 45.44368613, 45.52447534, 45.91587354,\n",
       "        45.9910248 , 46.74764148, 50.36812752, 50.56410313, 50.7821769 ,\n",
       "        50.80295211, 51.23132091, 51.31708759, 52.21829673, 52.31359909,\n",
       "        52.75622383, 57.24152339, 57.94140981, 58.46175946, 59.66907868,\n",
       "        59.78301296, 60.36236269, 60.62138982, 60.86016494, 61.22666248,\n",
       "        63.49774088, 63.64733241, 63.93196244, 64.09161806, 64.76783932,\n",
       "        65.97159471, 66.39520074, 66.69158186, 67.38562519, 68.48272142,\n",
       "        69.2166547 , 69.60530558, 69.67172453, 70.49183805, 70.49910857,\n",
       "        71.26420748, 71.37560218, 71.41965392, 71.4633633 , 71.62411684,\n",
       "        71.99127008, 72.03917382, 72.24573866, 73.13799968, 74.96487624,\n",
       "        75.42713083, 75.518755  , 75.64627311, 76.53397679, 77.98950186,\n",
       "        79.27674136, 80.38691602, 80.65042703, 81.45146962, 81.55598933,\n",
       "        81.76258763, 82.53481701, 82.8470924 , 83.87389801, 84.00533135,\n",
       "        84.06513812, 84.37601178, 84.84947875, 84.89307298, 84.90796536,\n",
       "        84.97346823, 85.48511427, 85.81598808, 85.85704168, 86.17421335,\n",
       "        87.65783672, 87.6646332 , 89.00000058, 89.16222864, 89.43522211,\n",
       "        89.73532114, 90.05602301, 90.06989526, 90.19595664, 90.21017165,\n",
       "        90.55904483, 90.60304155, 90.69695567, 90.76462182, 91.37846296,\n",
       "        91.97809959, 92.34021206, 93.9162342 , 94.20315178, 94.27236786,\n",
       "        94.41656694, 94.44927217, 94.56651653, 95.46002773, 95.47959687,\n",
       "        95.48656461, 95.61569168, 95.71352809, 96.88143009, 97.63158531,\n",
       "        98.67940478, 99.08951619]),\n",
       " array([ 1.67787366,  3.39394389,  3.93885382,  4.24638633,  4.63354765,\n",
       "         4.99061733,  5.67795346,  6.02366918,  6.38549793,  7.15491802,\n",
       "         8.12897558,  8.70973474,  8.81181093,  8.96874623,  9.25731688,\n",
       "        10.14424928, 10.29665838, 10.32923193, 10.77462593, 11.40073315,\n",
       "        12.49672605, 13.01104079, 13.20883986, 13.99082049, 15.00168539,\n",
       "        17.1261225 , 17.30010021, 17.32453138, 18.05328644, 18.25918893,\n",
       "        18.96909769, 19.25051253, 19.72076604, 19.80609592, 20.27764666,\n",
       "        20.49125005, 20.6561696 , 21.15283975, 24.06854241, 24.15981651,\n",
       "        24.23390541, 24.37492043, 26.30200143, 27.51325265, 27.77532271,\n",
       "        29.16000412, 29.43262792, 30.28201101, 30.79695947, 35.29603985,\n",
       "        35.66549356, 37.91059199, 38.8311271 , 39.15966108, 41.43132895,\n",
       "        42.015394  , 42.8218436 , 43.07913552, 43.79054544, 43.80212033,\n",
       "        46.3369067 , 47.22545807, 48.92473728, 51.00660532, 53.34876791,\n",
       "        53.50808039, 57.26494942, 57.94035956, 60.26684214, 60.28524541,\n",
       "        60.29682573, 60.49952804, 60.52388731, 60.82434029, 61.89882138,\n",
       "        62.64579387, 63.20296659, 63.3060349 , 63.65516558, 65.36493092,\n",
       "        67.11075139, 69.02068695, 69.76535938, 70.09344554, 71.28198994,\n",
       "        72.19994045, 74.54591887, 75.02235564, 75.30875578, 75.40011534,\n",
       "        80.58022993, 81.5528978 , 81.7435899 , 82.07842654, 82.09690426,\n",
       "        82.8492254 , 83.31799674, 83.54772646, 83.72925504, 83.86546197,\n",
       "        84.01999841, 84.37662315, 84.65280686, 84.75317463, 85.03064705,\n",
       "        85.1532165 , 85.16980138, 85.63903816, 85.83850405, 86.88405059,\n",
       "        87.17585037, 88.80097957, 88.88975143, 89.03644083, 89.19192533,\n",
       "        89.37324081, 89.40660915, 89.6459321 , 90.10950523, 90.36866326,\n",
       "        90.38523006, 90.49523248, 90.73183592, 91.48389121, 91.56990925,\n",
       "        91.87333502, 93.59928775, 94.08083491, 94.21399743, 94.28502826,\n",
       "        94.39994137, 94.68011263, 96.71204842, 97.11955127, 97.21661468,\n",
       "        97.22564768, 98.71500985, 99.55054166])]"
      ]
     },
     "execution_count": 24,
     "metadata": {},
     "output_type": "execute_result"
    }
   ],
   "source": [
    "ts[0]"
   ]
  },
  {
   "cell_type": "code",
   "execution_count": 23,
   "metadata": {},
   "outputs": [
    {
     "ename": "NameError",
     "evalue": "name 'HawkesExpKern' is not defined",
     "output_type": "error",
     "traceback": [
      "\u001b[0;31m---------------------------------------------------------------------------\u001b[0m",
      "\u001b[0;31mNameError\u001b[0m                                 Traceback (most recent call last)",
      "\u001b[0;32m<ipython-input-23-bec378049636>\u001b[0m in \u001b[0;36m<module>\u001b[0;34m\u001b[0m\n\u001b[1;32m      2\u001b[0m \u001b[0mdecays_sum_exp_kern\u001b[0m \u001b[0;34m=\u001b[0m \u001b[0;34m[\u001b[0m\u001b[0;36m3\u001b[0m\u001b[0;34m]\u001b[0m\u001b[0;34m\u001b[0m\u001b[0;34m\u001b[0m\u001b[0m\n\u001b[1;32m      3\u001b[0m \u001b[0;34m\u001b[0m\u001b[0m\n\u001b[0;32m----> 4\u001b[0;31m \u001b[0mestimator_exp_kern\u001b[0m \u001b[0;34m=\u001b[0m \u001b[0mHawkesExpKern\u001b[0m\u001b[0;34m(\u001b[0m\u001b[0mdecays_exp_kern\u001b[0m\u001b[0;34m)\u001b[0m\u001b[0;34m\u001b[0m\u001b[0;34m\u001b[0m\u001b[0m\n\u001b[0m\u001b[1;32m      5\u001b[0m \u001b[0mestimator_exp_kern\u001b[0m\u001b[0;34m.\u001b[0m\u001b[0mfit\u001b[0m\u001b[0;34m(\u001b[0m\u001b[0mts\u001b[0m\u001b[0;34m)\u001b[0m\u001b[0;34m\u001b[0m\u001b[0;34m\u001b[0m\u001b[0m\n\u001b[1;32m      6\u001b[0m \u001b[0mmodel_stats\u001b[0m\u001b[0;34m(\u001b[0m\u001b[0mestimator_exp_kern\u001b[0m\u001b[0;34m,\u001b[0m \u001b[0mts\u001b[0m\u001b[0;34m)\u001b[0m\u001b[0;34m\u001b[0m\u001b[0;34m\u001b[0m\u001b[0m\n",
      "\u001b[0;31mNameError\u001b[0m: name 'HawkesExpKern' is not defined"
     ]
    }
   ],
   "source": [
    "decays_exp_kern = np.random.random([len(A), len(A)])\n",
    "decays_sum_exp_kern = [3]\n",
    "\n",
    "estimator_exp_kern = HawkesExpKern(decays_exp_kern)\n",
    "estimator_exp_kern.fit(ts)\n",
    "model_stats(estimator_exp_kern, ts)"
   ]
  },
  {
   "cell_type": "code",
   "execution_count": 198,
   "metadata": {},
   "outputs": [],
   "source": [
    "np.set_printoptions(suppress=True)"
   ]
  },
  {
   "cell_type": "code",
   "execution_count": 199,
   "metadata": {},
   "outputs": [
    {
     "data": {
      "image/png": "[encoded data removed]",
      "text/plain": [
       "<Figure size 432x288 with 2 Axes>"
      ]
     },
     "metadata": {
      "needs_background": "light"
     },
     "output_type": "display_data"
    },
    {
     "name": "stdout",
     "output_type": "stream",
     "text": [
      "log-likelihood: 0.3597225390703459\n",
      "array([[0.26744465, 0.00000004, 0.19380704, 0.1522623 , 0.25871442,\n",
      "        0.00000005, 0.00000069],\n",
      "       [0.00049535, 0.0000001 , 0.00001757, 0.19617402, 0.20987906,\n",
      "        0.00000001, 0.22787416],\n",
      "       [0.27660688, 0.00000128, 0.00001382, 0.00000001, 0.30255635,\n",
      "        0.1427405 , 0.18872734],\n",
      "       [0.24574501, 0.21294216, 0.00016534, 0.00000468, 0.00074613,\n",
      "        0.1563403 , 0.21173094],\n",
      "       [0.        , 0.        , 0.23021212, 0.        , 0.25588844,\n",
      "        0.        , 0.        ],\n",
      "       [0.29209865, 0.1775157 , 0.22116624, 0.00000019, 0.31309732,\n",
      "        0.06699665, 0.24824246],\n",
      "       [0.32667923, 0.20955802, 0.1837615 , 0.1169177 , 0.00000003,\n",
      "        0.00000002, 0.2294854 ]])\n"
     ]
    }
   ],
   "source": [
    "decay = .3\n",
    "estimator_adm4 = HawkesADM4(decay,n_threads=6)\n",
    "estimator_adm4.fit(ts)\n",
    "model_stats(estimator_adm4, ts)"
   ]
  },
  {
   "cell_type": "code",
   "execution_count": 200,
   "metadata": {},
   "outputs": [
    {
     "data": {
      "text/plain": [
       "<AxesSubplot:>"
      ]
     },
     "execution_count": 200,
     "metadata": {},
     "output_type": "execute_result"
    },
    {
     "data": {
      "image/png": "[encoded data removed]",
      "text/plain": [
       "<Figure size 432x288 with 2 Axes>"
      ]
     },
     "metadata": {
      "needs_background": "light"
     },
     "output_type": "display_data"
    }
   ],
   "source": [
    "sns.heatmap(A)"
   ]
  },
  {
   "cell_type": "code",
   "execution_count": 204,
   "metadata": {},
   "outputs": [],
   "source": [
    "A_new = np.array([[0.26744465, 0.00000004, 0.19380704, 0.1522623 , 0.25871442,\n",
    "        0.00000005, 0.00000069],\n",
    "       [0.00049535, 0.0000001 , 0.00001757, 0.19617402, 0.20987906,\n",
    "        0.00000001, 0.22787416],\n",
    "       [0.27660688, 0.00000128, 0.00001382, 0.00000001, 0.30255635,\n",
    "        0.1427405 , 0.18872734],\n",
    "       [0.24574501, 0.21294216, 0.00016534, 0.00000468, 0.00074613,\n",
    "        0.1563403 , 0.21173094],\n",
    "       [0.        , 0.        , 0.23021212, 0.        , 0.25588844,\n",
    "        0.        , 0.        ],\n",
    "       [0.29209865, 0.1775157 , 0.22116624, 0.00000019, 0.31309732,\n",
    "        0.06699665, 0.24824246],\n",
    "       [0.32667923, 0.20955802, 0.1837615 , 0.1169177 , 0.00000003,\n",
    "        0.00000002, 0.2294854 ]])\n",
    "scaler = MinMaxScaler()\n",
    "A_new = scaler.fit_transform(A_new)"
   ]
  },
  {
   "cell_type": "code",
   "execution_count": 205,
   "metadata": {},
   "outputs": [],
   "source": [
    "A_new[A_new>0.5] = 1\n",
    "A_new[A_new<0.5] = 0"
   ]
  },
  {
   "cell_type": "code",
   "execution_count": null,
   "metadata": {},
   "outputs": [],
   "source": []
  },
  {
   "cell_type": "code",
   "execution_count": 206,
   "metadata": {},
   "outputs": [
    {
     "data": {
      "text/plain": [
       "<AxesSubplot:>"
      ]
     },
     "execution_count": 206,
     "metadata": {},
     "output_type": "execute_result"
    },
    {
     "data": {
      "image/png": "[encoded data removed]",
      "text/plain": [
       "<Figure size 432x288 with 2 Axes>"
      ]
     },
     "metadata": {
      "needs_background": "light"
     },
     "output_type": "display_data"
    }
   ],
   "source": [
    "sns.heatmap(A_new)"
   ]
  },
  {
   "cell_type": "code",
   "execution_count": null,
   "metadata": {},
   "outputs": [],
   "source": []
  },
  {
   "cell_type": "code",
   "execution_count": null,
   "metadata": {},
   "outputs": [],
   "source": []
  },
  {
   "cell_type": "code",
   "execution_count": null,
   "metadata": {},
   "outputs": [],
   "source": []
  },
  {
   "cell_type": "code",
   "execution_count": 207,
   "metadata": {},
   "outputs": [
    {
     "data": {
      "text/plain": [
       "<tick.hawkes.inference.hawkes_sumgaussians.HawkesSumGaussians at 0x7fe5dba00490>"
      ]
     },
     "execution_count": 207,
     "metadata": {},
     "output_type": "execute_result"
    }
   ],
   "source": [
    "learner = HawkesSumGaussians(5, max_iter=100)\n",
    "learner.fit(ts)\n",
    "\n"
   ]
  },
  {
   "cell_type": "code",
   "execution_count": null,
   "metadata": {},
   "outputs": [],
   "source": []
  },
  {
   "cell_type": "code",
   "execution_count": 208,
   "metadata": {},
   "outputs": [
    {
     "data": {
      "image/png": "[encoded data removed]",
      "text/plain": [
       "<Figure size 432x288 with 2 Axes>"
      ]
     },
     "metadata": {
      "needs_background": "light"
     },
     "output_type": "display_data"
    },
    {
     "ename": "AttributeError",
     "evalue": "'HawkesSumGaussians' object has no attribute 'score'",
     "output_type": "error",
     "traceback": [
      "\u001b[0;31m---------------------------------------------------------------------------\u001b[0m",
      "\u001b[0;31mAttributeError\u001b[0m                            Traceback (most recent call last)",
      "\u001b[0;32m<ipython-input-208-56757fab0246>\u001b[0m in \u001b[0;36m<module>\u001b[0;34m\u001b[0m\n\u001b[0;32m----> 1\u001b[0;31m \u001b[0mmodel_stats\u001b[0m\u001b[0;34m(\u001b[0m\u001b[0mlearner\u001b[0m\u001b[0;34m,\u001b[0m \u001b[0mts\u001b[0m\u001b[0;34m)\u001b[0m\u001b[0;34m\u001b[0m\u001b[0;34m\u001b[0m\u001b[0m\n\u001b[0m",
      "\u001b[0;32m<ipython-input-9-cba58a30f901>\u001b[0m in \u001b[0;36mmodel_stats\u001b[0;34m(model, test_data)\u001b[0m\n\u001b[1;32m      3\u001b[0m     plot_hawkes_kernel_norms(model,\n\u001b[1;32m      4\u001b[0m                          node_names=list())\n\u001b[0;32m----> 5\u001b[0;31m     \u001b[0mprint\u001b[0m\u001b[0;34m(\u001b[0m\u001b[0;34mf'log-likelihood: {model.score(test_data)}'\u001b[0m\u001b[0;34m)\u001b[0m\u001b[0;34m\u001b[0m\u001b[0;34m\u001b[0m\u001b[0m\n\u001b[0m\u001b[1;32m      6\u001b[0m     \u001b[0mpprint\u001b[0m\u001b[0;34m(\u001b[0m\u001b[0mmodel\u001b[0m\u001b[0;34m.\u001b[0m\u001b[0madjacency\u001b[0m\u001b[0;34m)\u001b[0m\u001b[0;34m\u001b[0m\u001b[0;34m\u001b[0m\u001b[0m\n",
      "\u001b[0;31mAttributeError\u001b[0m: 'HawkesSumGaussians' object has no attribute 'score'"
     ]
    }
   ],
   "source": [
    "model_stats(learner, ts)"
   ]
  },
  {
   "cell_type": "code",
   "execution_count": 210,
   "metadata": {},
   "outputs": [
    {
     "data": {
      "text/plain": [
       "array([[ 0.37352678,  0.00341466,  0.36599284,  0.3679019 ,  0.39691366,\n",
       "         0.01371682,  0.0026932 ],\n",
       "       [ 0.01645172,  0.00197893,  0.01638357,  0.37810095,  0.34536125,\n",
       "         0.00516997,  0.38470714],\n",
       "       [ 0.37584786,  0.01146852,  0.00232548,  0.00066879,  0.40141234,\n",
       "         0.38044957,  0.36263596],\n",
       "       [ 0.34858168,  0.39173881,  0.0052162 ,  0.03574606,  0.02571501,\n",
       "         0.36552775,  0.35453745],\n",
       "       [-0.00169139,  0.02351452,  0.38099988, -0.00107822,  0.38473804,\n",
       "         0.00005307, -0.00199177],\n",
       "       [ 0.39499657,  0.41371179,  0.34037356,  0.00158469,  0.38821734,\n",
       "         0.37252927,  0.38586988],\n",
       "       [ 0.40773718,  0.40314678,  0.3569445 ,  0.34661282,  0.00489719,\n",
       "         0.00969737,  0.38416673]])"
      ]
     },
     "execution_count": 210,
     "metadata": {},
     "output_type": "execute_result"
    }
   ],
   "source": [
    "learner.get_kernel_norms()"
   ]
  },
  {
   "cell_type": "code",
   "execution_count": 211,
   "metadata": {},
   "outputs": [],
   "source": [
    "from sklearn.preprocessing import MinMaxScaler"
   ]
  },
  {
   "cell_type": "code",
   "execution_count": 212,
   "metadata": {},
   "outputs": [],
   "source": [
    "scaler = MinMaxScaler()\n",
    "A_new = scaler.fit_transform(learner.get_kernel_norms())"
   ]
  },
  {
   "cell_type": "code",
   "execution_count": null,
   "metadata": {},
   "outputs": [],
   "source": []
  },
  {
   "cell_type": "code",
   "execution_count": 213,
   "metadata": {},
   "outputs": [
    {
     "data": {
      "text/plain": [
       "<AxesSubplot:>"
      ]
     },
     "execution_count": 213,
     "metadata": {},
     "output_type": "execute_result"
    },
    {
     "data": {
      "image/png": "[encoded data removed]",
      "text/plain": [
       "<Figure size 432x288 with 2 Axes>"
      ]
     },
     "metadata": {
      "needs_background": "light"
     },
     "output_type": "display_data"
    }
   ],
   "source": [
    "sns.heatmap(A)"
   ]
  },
  {
   "cell_type": "code",
   "execution_count": 214,
   "metadata": {},
   "outputs": [
    {
     "data": {
      "text/plain": [
       "<AxesSubplot:>"
      ]
     },
     "execution_count": 214,
     "metadata": {},
     "output_type": "execute_result"
    },
    {
     "data": {
      "image/png": "[encoded data removed]",
      "text/plain": [
       "<Figure size 432x288 with 2 Axes>"
      ]
     },
     "metadata": {
      "needs_background": "light"
     },
     "output_type": "display_data"
    }
   ],
   "source": [
    "sns.heatmap(A_new)"
   ]
  },
  {
   "cell_type": "code",
   "execution_count": null,
   "metadata": {},
   "outputs": [],
   "source": []
  },
  {
   "cell_type": "code",
   "execution_count": null,
   "metadata": {},
   "outputs": [],
   "source": [
    "tick.plot.plot_hawkes_kernels"
   ]
  },
  {
   "cell_type": "code",
   "execution_count": null,
   "metadata": {},
   "outputs": [],
   "source": []
  },
  {
   "cell_type": "code",
   "execution_count": null,
   "metadata": {},
   "outputs": [],
   "source": []
  },
  {
   "cell_type": "code",
   "execution_count": null,
   "metadata": {},
   "outputs": [],
   "source": []
  },
  {
   "cell_type": "code",
   "execution_count": null,
   "metadata": {},
   "outputs": [],
   "source": []
  }
 ],
 "metadata": {
  "kernelspec": {
   "display_name": "Python 3",
   "language": "python",
   "name": "python3"
  },
  "language_info": {
   "codemirror_mode": {
    "name": "ipython",
    "version": 3
   },
   "file_extension": ".py",
   "mimetype": "text/x-python",
   "name": "python",
   "nbconvert_exporter": "python",
   "pygments_lexer": "ipython3",
   "version": "3.8.5"
  }
 },
 "nbformat": 4,
 "nbformat_minor": 4
}
