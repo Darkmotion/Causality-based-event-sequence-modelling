{
 "cells": [
  {
   "cell_type": "code",
   "execution_count": 1,
   "metadata": {},
   "outputs": [],
   "source": [
    "%load_ext autoreload\n",
    "%autoreload 2"
   ]
  },
  {
   "cell_type": "code",
   "execution_count": 2,
   "metadata": {},
   "outputs": [],
   "source": [
    "from causal_nh.utils import open_pkl_file\n",
    "from causal_nh.test import test_prediction\n",
    "import os\n",
    "from causal_nh.train import train_nh, train_causal_nh\n",
    "from causal_nh.model.NeuralHawkes import CausalNeuralHawkesMasked, CausalNeuralHawkesMaskedWeighted, CausalNeuralHawkesTrainableWeighted\n",
    "import pickle\n",
    "%matplotlib inline"
   ]
  },
  {
   "cell_type": "code",
   "execution_count": 70,
   "metadata": {},
   "outputs": [],
   "source": [
    "data_path = \"../../data\"\n",
    "results = \"../../results\"\n",
    "artifacts = \"../../artefacts\"\n",
    "if not os.path.exists(results):\n",
    "    os.mkdir(results)\n",
    "if not os.path.exists(artifacts):\n",
    "    os.mkdir(artifacts)\n",
    "\n",
    "datasets = [item for item in os.listdir(data_path) if os.path.isdir(f'{data_path}/{item}')]\n",
    "print(datasets)\n",
    "datasets = [datasets[5]]\n",
    "print(datasets)"
   ]
  },
  {
   "cell_type": "code",
   "execution_count": null,
   "metadata": {
    "pycharm": {
     "name": "#%%\n"
    }
   },
   "outputs": [],
   "source": [
    "new_models = [CausalNeuralHawkesMasked, CausalNeuralHawkesMaskedWeighted, CausalNeuralHawkesTrainableWeighted]\n",
    "for dataset in datasets:\n",
    "    dataset_name = dataset\n",
    "    path = f'{data_path}/{dataset_name}/'\n",
    "    print(path)\n",
    "    train = open_pkl_file(path + 'train.pkl', 'train')\n",
    "    dev = open_pkl_file(path + 'dev.pkl', 'dev')\n",
    "    test_data = open_pkl_file(path + 'test.pkl', 'test')\n",
    "    with open(path + 'A.pkl', 'rb') as f:\n",
    "        A = pickle.load(f)\n",
    "    A = A['A']\n",
    "    W = A\n",
    "    A[A==0.2] = 1\n",
    "\n",
    "    output_folder = f'{artifacts}/{dataset_name}'\n",
    "    if not os.path.exists(output_folder):\n",
    "        os.mkdir(output_folder)\n",
    "    \n",
    "    save_path, model_path = train_nh(train, dev, f'{output_folder}/', False, lr=0.01, num_epochs=100, batch_size=50)\n",
    "    \n",
    "    original_time, original_type, estimated_times, estimated_types, estimated_intensities, rmse, acc = test_prediction(\n",
    "                test_data = test_data,\n",
    "                idx_test_series=5,\n",
    "                n_samples=1000,\n",
    "                start_test_idx=10,\n",
    "                path_to_save=save_path,\n",
    "                path_to_model=model_path,\n",
    "                dataset_name=dataset_name)\n",
    "    \n",
    "    fname = save_path+model_path.split('/')[-1].split('.')[0]+\"_metrics.txt\"\n",
    "    with open(fname, 'w') as f:\n",
    "        f.write(f\"RMSE: {rmse}\\n\")\n",
    "        f.write(f\"Accuracy: {acc}\")\n",
    "    \n",
    "    for m in new_models:\n",
    "        print(m.__name__)\n",
    "        save_path, model_path = train_causal_nh(train, dev, A,W,  f'{output_folder}/', False, lr=0.01, num_epochs=100, batch_size=50, dataset_name=dataset_name, model=m)\n",
    "        \n",
    "        original_time, original_type, estimated_times, estimated_types, estimated_intensities, rmse, acc = test_prediction(\n",
    "                test_data = test_data,\n",
    "                idx_test_series=5,\n",
    "                n_samples=1000,\n",
    "                start_test_idx=10,\n",
    "                path_to_save=save_path,\n",
    "                path_to_model=model_path,\n",
    "                dataset_name=dataset_name)\n",
    "        fname = save_path+model_path.split('/')[-1].split('.')[0]+\"_metrics.txt\"\n",
    "        with open(fname, 'w') as f:\n",
    "            f.write(f\"RMSE: {rmse}\\n\")\n",
    "            f.write(f\"Accuracy: {acc}\")"
   ]
  }
 ],
 "metadata": {
  "kernelspec": {
   "display_name": "Python 3",
   "language": "python",
   "name": "python3"
  },
  "language_info": {
   "codemirror_mode": {
    "name": "ipython",
    "version": 3
   },
   "file_extension": ".py",
   "mimetype": "text/x-python",
   "name": "python",
   "nbconvert_exporter": "python",
   "pygments_lexer": "ipython3",
   "version": "3.8.4"
  }
 },
 "nbformat": 4,
 "nbformat_minor": 4
}