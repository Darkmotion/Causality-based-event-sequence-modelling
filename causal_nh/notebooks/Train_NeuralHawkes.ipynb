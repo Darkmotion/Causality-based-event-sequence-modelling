{
 "cells": [
  {
   "cell_type": "code",
   "execution_count": 1,
   "metadata": {},
   "outputs": [],
   "source": [
    "%load_ext autoreload\n",
    "%autoreload 2"
   ]
  },
  {
   "cell_type": "code",
   "execution_count": 2,
   "metadata": {},
   "outputs": [],
   "source": [
    "from causal_nh.utils import open_pkl_file\n",
    "\n"
   ]
  },
  {
   "cell_type": "code",
   "execution_count": 3,
   "metadata": {},
   "outputs": [],
   "source": [
    "dataset_name = 'synth_5_events'"
   ]
  },
  {
   "cell_type": "code",
   "execution_count": 4,
   "metadata": {},
   "outputs": [],
   "source": [
    "path = f'../../data/data_{dataset_name}/'"
   ]
  },
  {
   "cell_type": "code",
   "execution_count": null,
   "metadata": {},
   "outputs": [],
   "source": []
  },
  {
   "cell_type": "code",
   "execution_count": 5,
   "metadata": {},
   "outputs": [],
   "source": [
    "train = open_pkl_file(path + 'train.pkl', 'train')\n",
    "dev = open_pkl_file(path + 'dev.pkl', 'dev')"
   ]
  },
  {
   "cell_type": "code",
   "execution_count": 6,
   "metadata": {},
   "outputs": [],
   "source": [
    "from causal_nh.train import train_nh"
   ]
  },
  {
   "cell_type": "code",
   "execution_count": null,
   "metadata": {},
   "outputs": [],
   "source": []
  },
  {
   "cell_type": "code",
   "execution_count": null,
   "metadata": {},
   "outputs": [
    {
     "name": "stdout",
     "output_type": "stream",
     "text": [
      "Processing data...\n",
      "start training...\n",
      "CUDA is not Available. You are using CPU only.\n",
      "Number of cores:  8\n",
      "Epoch 0, process 0 out of 90 is done\n",
      "Epoch 0, process 1 out of 90 is done\n",
      "Epoch 0, process 2 out of 90 is done\n",
      "Epoch 0, process 3 out of 90 is done\n",
      "Epoch 0, process 4 out of 90 is done\n",
      "Epoch 0, process 5 out of 90 is done\n",
      "Epoch 0, process 6 out of 90 is done\n",
      "Epoch 0, process 7 out of 90 is done\n",
      "Epoch 0, process 8 out of 90 is done\n",
      "Epoch 0, process 9 out of 90 is done\n",
      "Epoch 0, process 10 out of 90 is done\n",
      "Epoch 0, process 11 out of 90 is done\n",
      "Epoch 0, process 12 out of 90 is done\n",
      "Epoch 0, process 13 out of 90 is done\n",
      "Epoch 0, process 14 out of 90 is done\n",
      "Epoch 0, process 15 out of 90 is done\n",
      "Epoch 0, process 16 out of 90 is done\n",
      "Epoch 0, process 17 out of 90 is done\n",
      "Epoch 0, process 18 out of 90 is done\n",
      "Epoch 0, process 19 out of 90 is done\n",
      "Epoch 0, process 20 out of 90 is done\n",
      "Epoch 0, process 21 out of 90 is done\n",
      "Epoch 0, process 22 out of 90 is done\n",
      "Epoch 0, process 23 out of 90 is done\n",
      "Epoch 0, process 24 out of 90 is done\n",
      "Epoch 0, process 25 out of 90 is done\n",
      "Epoch 0, process 26 out of 90 is done\n",
      "Epoch 0, process 27 out of 90 is done\n",
      "Epoch 0, process 28 out of 90 is done\n",
      "Epoch 0, process 29 out of 90 is done\n",
      "Epoch 0, process 30 out of 90 is done\n"
     ]
    }
   ],
   "source": [
    "train_nh(train, dev, '../../artefacts/', False, lr=0.1, num_epochs=10, batch_size=10)"
   ]
  },
  {
   "cell_type": "code",
   "execution_count": null,
   "metadata": {},
   "outputs": [],
   "source": [
    "train[3]"
   ]
  },
  {
   "cell_type": "code",
   "execution_count": null,
   "metadata": {},
   "outputs": [],
   "source": []
  }
 ],
 "metadata": {
  "kernelspec": {
   "display_name": "Python 3",
   "language": "python",
   "name": "python3"
  },
  "language_info": {
   "codemirror_mode": {
    "name": "ipython",
    "version": 3
   },
   "file_extension": ".py",
   "mimetype": "text/x-python",
   "name": "python",
   "nbconvert_exporter": "python",
   "pygments_lexer": "ipython3",
   "version": "3.8.5"
  }
 },
 "nbformat": 4,
 "nbformat_minor": 4
}
